{
 "cells": [
  {
   "cell_type": "code",
   "execution_count": 1,
   "metadata": {},
   "outputs": [],
   "source": [
    "import warnings\n",
    "warnings.filterwarnings('ignore')\n",
    "\n",
    "import pandas as pd\n",
    "import numpy as np\n",
    "import geopandas as gpd\n",
    "\n",
    "from sklearn.model_selection import train_test_split\n",
    "from sklearn.metrics import mean_absolute_error\n",
    "from sklearn.linear_model import LinearRegression"
   ]
  },
  {
   "cell_type": "markdown",
   "metadata": {},
   "source": [
    "### Задача:\n",
    "\n",
    "Прогноз продаж одной из популярных моделей [фичерфонов](https://ru.wikipedia.org/wiki/%D0%A4%D0%B8%D1%87%D0%B5%D1%80%D1%84%D0%BE%D0%BD) (на картинке ниже пример похожего устройства) в салонах МегаФона\n",
    "![](https://39.img.avito.st/640x480/8468720439.jpg)"
   ]
  },
  {
   "cell_type": "markdown",
   "metadata": {},
   "source": [
    "### Исходные данные:\n",
    "\n",
    "Датасет содержит следующие поля:\n",
    "\n",
    "1. `point_id` - Индентификатор салона\n",
    "2. `lon` - Долгота точки\n",
    "3. `lat` - Широта точки\n",
    "4. `target` - Значение таргета, усредненное за несколько месяцев и отнормированное"
   ]
  },
  {
   "cell_type": "markdown",
   "metadata": {},
   "source": [
    "### Требования к решению и советы:\n",
    "\n",
    "Ниже приведен список из нескольких важных пунктов, необходимых для решения задания. Выполнение каждого из пунктов влияет на итоговую оценку. Вы можете выполнить каждый из пунктов разными способами, самым лучшим будет считаться вариант, когда всё получение и обработка данных будут реализованы на Питоне (пример: вы можете скачать данные из OSM через интерфейс на сайте overpass-turbo или с помощью библиотек `overpass`/`requests`. Оба варианта будут зачтены, но больше баллов можно заработать во втором случае)\n",
    "\n",
    "\n",
    "\n",
    "1. Салоны расположены в нескольких разных городах, вам необходимо **определить город для каждого салона** (это понадобится во многих частях задания). К этому есть разные подходы. Вы можете провести [обратное геокодирование](https://en.wikipedia.org/wiki/Reverse_geocoding) с помощью геокодера [Nominatim](https://nominatim.org/), доступного через библиотеку `geopy` примерно вот так:\n",
    "```python\n",
    "from geopy.geocoders import Nominatim\n",
    "geolocator = Nominatim(user_agent=\"specify_your_app_name_here\")\n",
    "location = geolocator.reverse(\"52.509669, 13.376294\")\n",
    "print(location.address)\n",
    "```\n",
    "В таком случае, вам придется обрабатывать полученную строку адреса, чтобы извлечь название города. Также вы можете скачать из OSM или найти в любом другом источнике границы административно территориальных границ России и пересечь с ними датасет с помощью `geopandas.sjoin` (этот вариант более надежный, но нужно будет разобраться с тем, как устроены границы АТД в OSM, обратите внимание на [этот тег](https://wiki.openstreetmap.org/wiki/Key:admin_level))"
   ]
  },
  {
   "cell_type": "markdown",
   "metadata": {},
   "source": [
    "\n",
    "2. **Используйте данные OSM**: подумайте, какие объекты могут влиять на продажи фичерфонов. Гипотеза: такие телефоны покупают люди, приезжающие в город или страну ненадолго, чтобы вставить туда отдельную симкарту для роуминга. Можно попробовать использовать местоположения железнодорожных вокзалов (изучите [этот тег](https://wiki.openstreetmap.org/wiki/Tag:railway%3Dstation)). Необходимо использовать хотя бы 5 разных типов объектов из OSM. Скорее всего, вам придется качать данные OSM отдельно для разных городов (см. пример для Нью-Йорка из лекции)\n",
    "\n",
    "\n",
    "3. **Используйте разные способы генерации признаков**: описать положение салона МегаФона относительно станций метро можно разными способами - найти ***расстояние до ближайшей станции***, или же посчитать, сколько станций попадает в ***500 метровую буферную зону*** вокруг салона. Такие признаки будут нести разную информацию. Так же попробуйте поэкспериментировать с размерами буферных зон (представьте, что значат в реальности радиусы 100, 500, 1000 метров). Попробуйте посчитать расстояние до центра города, до других объектов."
   ]
  },
  {
   "cell_type": "markdown",
   "metadata": {},
   "source": [
    "4. **Сделайте визуализации**: постройте 2-3 карты для какого нибудь из городов - как распределен в пространстве таргет, где находятся объекты, полученные вами из OSM. Можете использовать любой инструмент - обычный `plot()`, `folium`, `keplergl`. Если выберете Кеплер, обязательно сохраните в файл конфиг карты, чтобы ее можно было воспроизвести. Сделать это можно вот так:\n",
    "\n",
    "```python\n",
    "import json\n",
    "json_data = kepler_map.config\n",
    "with open('kepler_config.json', 'w') as outfile:\n",
    "    json.dump(json_data, outfile)\n",
    "```\n",
    "5. Задание не ограничено приведенными выше пунктами, попробуйте нагенерировать интересных признаков, найти в интернете дополнительные данные (в таком случае в комментарии к коду укажите ссылку на ресурс, откуда взяли данные)\n",
    "\n",
    "\n",
    "\n",
    "6. Это довольно сложная задача - датасет очень маленький, данные по своей природе довольно случайны. Поэтому место и скор на Kaggle не будут играть решающую роль в оценке, но позволят заработать дополнительные баллы"
   ]
  },
  {
   "cell_type": "markdown",
   "metadata": {},
   "source": [
    "### Read data"
   ]
  },
  {
   "cell_type": "code",
   "execution_count": 2,
   "metadata": {},
   "outputs": [],
   "source": [
    "train = pd.read_csv('data/mf_geo_train.csv')\n",
    "test = pd.read_csv('data/mf_geo_test.csv')"
   ]
  },
  {
   "cell_type": "code",
   "execution_count": 3,
   "metadata": {},
   "outputs": [
    {
     "data": {
      "text/html": [
       "<div>\n",
       "<style scoped>\n",
       "    .dataframe tbody tr th:only-of-type {\n",
       "        vertical-align: middle;\n",
       "    }\n",
       "\n",
       "    .dataframe tbody tr th {\n",
       "        vertical-align: top;\n",
       "    }\n",
       "\n",
       "    .dataframe thead th {\n",
       "        text-align: right;\n",
       "    }\n",
       "</style>\n",
       "<table border=\"1\" class=\"dataframe\">\n",
       "  <thead>\n",
       "    <tr style=\"text-align: right;\">\n",
       "      <th></th>\n",
       "      <th>point_id</th>\n",
       "      <th>lon</th>\n",
       "      <th>lat</th>\n",
       "      <th>target</th>\n",
       "    </tr>\n",
       "  </thead>\n",
       "  <tbody>\n",
       "    <tr>\n",
       "      <th>0</th>\n",
       "      <td>ommNZCUV</td>\n",
       "      <td>37.590776</td>\n",
       "      <td>55.848630</td>\n",
       "      <td>-0.348157</td>\n",
       "    </tr>\n",
       "    <tr>\n",
       "      <th>1</th>\n",
       "      <td>nMe2LHPb</td>\n",
       "      <td>37.784210</td>\n",
       "      <td>55.750271</td>\n",
       "      <td>1.294206</td>\n",
       "    </tr>\n",
       "  </tbody>\n",
       "</table>\n",
       "</div>"
      ],
      "text/plain": [
       "   point_id        lon        lat    target\n",
       "0  ommNZCUV  37.590776  55.848630 -0.348157\n",
       "1  nMe2LHPb  37.784210  55.750271  1.294206"
      ]
     },
     "execution_count": 3,
     "metadata": {},
     "output_type": "execute_result"
    }
   ],
   "source": [
    "train.head(2)"
   ]
  },
  {
   "cell_type": "code",
   "execution_count": 4,
   "metadata": {
    "scrolled": true
   },
   "outputs": [
    {
     "data": {
      "text/html": [
       "<div>\n",
       "<style scoped>\n",
       "    .dataframe tbody tr th:only-of-type {\n",
       "        vertical-align: middle;\n",
       "    }\n",
       "\n",
       "    .dataframe tbody tr th {\n",
       "        vertical-align: top;\n",
       "    }\n",
       "\n",
       "    .dataframe thead th {\n",
       "        text-align: right;\n",
       "    }\n",
       "</style>\n",
       "<table border=\"1\" class=\"dataframe\">\n",
       "  <thead>\n",
       "    <tr style=\"text-align: right;\">\n",
       "      <th></th>\n",
       "      <th>point_id</th>\n",
       "      <th>lon</th>\n",
       "      <th>lat</th>\n",
       "      <th>target</th>\n",
       "    </tr>\n",
       "  </thead>\n",
       "  <tbody>\n",
       "    <tr>\n",
       "      <th>0</th>\n",
       "      <td>F4lXR1cG</td>\n",
       "      <td>37.681242</td>\n",
       "      <td>55.74804</td>\n",
       "      <td>0.0091</td>\n",
       "    </tr>\n",
       "    <tr>\n",
       "      <th>1</th>\n",
       "      <td>4LJu4GTf</td>\n",
       "      <td>60.580910</td>\n",
       "      <td>56.79586</td>\n",
       "      <td>0.0091</td>\n",
       "    </tr>\n",
       "  </tbody>\n",
       "</table>\n",
       "</div>"
      ],
      "text/plain": [
       "   point_id        lon       lat  target\n",
       "0  F4lXR1cG  37.681242  55.74804  0.0091\n",
       "1  4LJu4GTf  60.580910  56.79586  0.0091"
      ]
     },
     "execution_count": 4,
     "metadata": {},
     "output_type": "execute_result"
    }
   ],
   "source": [
    "test.head(2)"
   ]
  },
  {
   "cell_type": "markdown",
   "metadata": {},
   "source": [
    "### 1\n",
    "1. Салоны расположены в нескольких разных городах, вам необходимо **определить город для каждого салона** (это понадобится во многих частях задания). К этому есть разные подходы. Вы можете провести [обратное геокодирование](https://en.wikipedia.org/wiki/Reverse_geocoding) с помощью геокодера [Nominatim](https://nominatim.org/), доступного через библиотеку `geopy` примерно вот так:\n",
    "```python\n",
    "from geopy.geocoders import Nominatim\n",
    "geolocator = Nominatim(user_agent=\"specify_your_app_name_here\")\n",
    "location = geolocator.reverse(\"52.509669, 13.376294\")\n",
    "print(location.address)\n",
    "```\n",
    "В таком случае, вам придется обрабатывать полученную строку адреса, чтобы извлечь название города. Также вы можете скачать из OSM или найти в любом другом источнике границы административно территориальных границ России и пересечь с ними датасет с помощью `geopandas.sjoin` (этот вариант более надежный, но нужно будет разобраться с тем, как устроены границы АТД в OSM, обратите внимание на [этот тег](https://wiki.openstreetmap.org/wiki/Key:admin_level))"
   ]
  },
  {
   "cell_type": "code",
   "execution_count": 5,
   "metadata": {},
   "outputs": [],
   "source": [
    "from geopy.geocoders import Nominatim\n",
    "import overpass\n",
    "import requests"
   ]
  },
  {
   "cell_type": "markdown",
   "metadata": {},
   "source": [
    "Добавляем город, в котором находится каждый салон:"
   ]
  },
  {
   "cell_type": "code",
   "execution_count": 8,
   "metadata": {},
   "outputs": [],
   "source": [
    "geolocator = Nominatim(user_agent=\"http\")"
   ]
  },
  {
   "cell_type": "code",
   "execution_count": 9,
   "metadata": {},
   "outputs": [],
   "source": [
    "for i in train.index:\n",
    "    location = geolocator.reverse(str(train.lat[i]) + ', ' + str(train.lon[i]))\n",
    "    address = location.address.split(sep=', ')\n",
    "    if address[-4] == 'Москва' or address[-4] == 'Санкт-Петербург':\n",
    "        train.loc[i, 'city'] = address[-4]\n",
    "    else:\n",
    "        train.loc[i, 'city'] = address[-5].split()[-1]"
   ]
  },
  {
   "cell_type": "markdown",
   "metadata": {},
   "source": [
    "Проверим правильность добавления:"
   ]
  },
  {
   "cell_type": "code",
   "execution_count": 10,
   "metadata": {
    "scrolled": true
   },
   "outputs": [
    {
     "data": {
      "text/plain": [
       "Москва             160\n",
       "Санкт-Петербург     83\n",
       "Самара              27\n",
       "Новосибирск         26\n",
       "Казань              25\n",
       "Екатеринбург        22\n",
       "Новгород            21\n",
       "Ростов-на-Дону      21\n",
       "Красноярск          20\n",
       "Уфа                 19\n",
       "Балашиха             1\n",
       "Name: city, dtype: int64"
      ]
     },
     "execution_count": 10,
     "metadata": {},
     "output_type": "execute_result"
    }
   ],
   "source": [
    "train.city.value_counts()"
   ]
  },
  {
   "cell_type": "markdown",
   "metadata": {},
   "source": [
    "Видим, что обработка адреса верна."
   ]
  },
  {
   "cell_type": "code",
   "execution_count": 11,
   "metadata": {},
   "outputs": [
    {
     "data": {
      "text/html": [
       "<div>\n",
       "<style scoped>\n",
       "    .dataframe tbody tr th:only-of-type {\n",
       "        vertical-align: middle;\n",
       "    }\n",
       "\n",
       "    .dataframe tbody tr th {\n",
       "        vertical-align: top;\n",
       "    }\n",
       "\n",
       "    .dataframe thead th {\n",
       "        text-align: right;\n",
       "    }\n",
       "</style>\n",
       "<table border=\"1\" class=\"dataframe\">\n",
       "  <thead>\n",
       "    <tr style=\"text-align: right;\">\n",
       "      <th></th>\n",
       "      <th>point_id</th>\n",
       "      <th>lon</th>\n",
       "      <th>lat</th>\n",
       "      <th>target</th>\n",
       "      <th>city</th>\n",
       "    </tr>\n",
       "  </thead>\n",
       "  <tbody>\n",
       "    <tr>\n",
       "      <th>0</th>\n",
       "      <td>ommNZCUV</td>\n",
       "      <td>37.590776</td>\n",
       "      <td>55.848630</td>\n",
       "      <td>-0.348157</td>\n",
       "      <td>Москва</td>\n",
       "    </tr>\n",
       "    <tr>\n",
       "      <th>1</th>\n",
       "      <td>nMe2LHPb</td>\n",
       "      <td>37.784210</td>\n",
       "      <td>55.750271</td>\n",
       "      <td>1.294206</td>\n",
       "      <td>Москва</td>\n",
       "    </tr>\n",
       "    <tr>\n",
       "      <th>2</th>\n",
       "      <td>ZgodVRqB</td>\n",
       "      <td>39.635721</td>\n",
       "      <td>47.213330</td>\n",
       "      <td>-1.039679</td>\n",
       "      <td>Ростов-на-Дону</td>\n",
       "    </tr>\n",
       "    <tr>\n",
       "      <th>3</th>\n",
       "      <td>0t2jNYdz</td>\n",
       "      <td>37.704570</td>\n",
       "      <td>55.782020</td>\n",
       "      <td>-1.169339</td>\n",
       "      <td>Москва</td>\n",
       "    </tr>\n",
       "    <tr>\n",
       "      <th>4</th>\n",
       "      <td>U27W4QJ7</td>\n",
       "      <td>37.643983</td>\n",
       "      <td>55.730188</td>\n",
       "      <td>-0.088837</td>\n",
       "      <td>Москва</td>\n",
       "    </tr>\n",
       "  </tbody>\n",
       "</table>\n",
       "</div>"
      ],
      "text/plain": [
       "   point_id        lon        lat    target            city\n",
       "0  ommNZCUV  37.590776  55.848630 -0.348157          Москва\n",
       "1  nMe2LHPb  37.784210  55.750271  1.294206          Москва\n",
       "2  ZgodVRqB  39.635721  47.213330 -1.039679  Ростов-на-Дону\n",
       "3  0t2jNYdz  37.704570  55.782020 -1.169339          Москва\n",
       "4  U27W4QJ7  37.643983  55.730188 -0.088837          Москва"
      ]
     },
     "execution_count": 11,
     "metadata": {},
     "output_type": "execute_result"
    }
   ],
   "source": [
    "train.head()"
   ]
  },
  {
   "cell_type": "markdown",
   "metadata": {},
   "source": [
    "Делаем то же самое с test:"
   ]
  },
  {
   "cell_type": "code",
   "execution_count": 12,
   "metadata": {},
   "outputs": [],
   "source": [
    "for i in test.index:\n",
    "    location = geolocator.reverse(str(test.lat[i]) + ', ' + str(test.lon[i]))\n",
    "    address = location.address.split(sep=', ')\n",
    "    if address[-4] == 'Москва' or address[-4] == 'Санкт-Петербург':\n",
    "        test.loc[i, 'city'] = address[-4]\n",
    "    else:\n",
    "        test.loc[i, 'city'] = address[-5].split()[-1]"
   ]
  },
  {
   "cell_type": "code",
   "execution_count": 13,
   "metadata": {},
   "outputs": [
    {
     "data": {
      "text/plain": [
       "Москва             40\n",
       "Санкт-Петербург    21\n",
       "Казань              7\n",
       "Новосибирск         7\n",
       "Самара              7\n",
       "Ростов-на-Дону      5\n",
       "Уфа                 5\n",
       "Красноярск          5\n",
       "Новгород            5\n",
       "Екатеринбург        5\n",
       "Name: city, dtype: int64"
      ]
     },
     "execution_count": 13,
     "metadata": {},
     "output_type": "execute_result"
    }
   ],
   "source": [
    "test.city.value_counts()"
   ]
  },
  {
   "cell_type": "code",
   "execution_count": 14,
   "metadata": {},
   "outputs": [
    {
     "data": {
      "text/html": [
       "<div>\n",
       "<style scoped>\n",
       "    .dataframe tbody tr th:only-of-type {\n",
       "        vertical-align: middle;\n",
       "    }\n",
       "\n",
       "    .dataframe tbody tr th {\n",
       "        vertical-align: top;\n",
       "    }\n",
       "\n",
       "    .dataframe thead th {\n",
       "        text-align: right;\n",
       "    }\n",
       "</style>\n",
       "<table border=\"1\" class=\"dataframe\">\n",
       "  <thead>\n",
       "    <tr style=\"text-align: right;\">\n",
       "      <th></th>\n",
       "      <th>point_id</th>\n",
       "      <th>lon</th>\n",
       "      <th>lat</th>\n",
       "      <th>target</th>\n",
       "      <th>city</th>\n",
       "    </tr>\n",
       "  </thead>\n",
       "  <tbody>\n",
       "    <tr>\n",
       "      <th>0</th>\n",
       "      <td>F4lXR1cG</td>\n",
       "      <td>37.681242</td>\n",
       "      <td>55.748040</td>\n",
       "      <td>0.0091</td>\n",
       "      <td>Москва</td>\n",
       "    </tr>\n",
       "    <tr>\n",
       "      <th>1</th>\n",
       "      <td>4LJu4GTf</td>\n",
       "      <td>60.580910</td>\n",
       "      <td>56.795860</td>\n",
       "      <td>0.0091</td>\n",
       "      <td>Екатеринбург</td>\n",
       "    </tr>\n",
       "    <tr>\n",
       "      <th>2</th>\n",
       "      <td>kLuAAN3s</td>\n",
       "      <td>37.598614</td>\n",
       "      <td>55.781357</td>\n",
       "      <td>0.0091</td>\n",
       "      <td>Москва</td>\n",
       "    </tr>\n",
       "    <tr>\n",
       "      <th>3</th>\n",
       "      <td>OxQHvaNu</td>\n",
       "      <td>37.794051</td>\n",
       "      <td>55.717468</td>\n",
       "      <td>0.0091</td>\n",
       "      <td>Москва</td>\n",
       "    </tr>\n",
       "    <tr>\n",
       "      <th>4</th>\n",
       "      <td>paQsTa1K</td>\n",
       "      <td>49.213026</td>\n",
       "      <td>55.748290</td>\n",
       "      <td>0.0091</td>\n",
       "      <td>Казань</td>\n",
       "    </tr>\n",
       "  </tbody>\n",
       "</table>\n",
       "</div>"
      ],
      "text/plain": [
       "   point_id        lon        lat  target          city\n",
       "0  F4lXR1cG  37.681242  55.748040  0.0091        Москва\n",
       "1  4LJu4GTf  60.580910  56.795860  0.0091  Екатеринбург\n",
       "2  kLuAAN3s  37.598614  55.781357  0.0091        Москва\n",
       "3  OxQHvaNu  37.794051  55.717468  0.0091        Москва\n",
       "4  paQsTa1K  49.213026  55.748290  0.0091        Казань"
      ]
     },
     "execution_count": 14,
     "metadata": {},
     "output_type": "execute_result"
    }
   ],
   "source": [
    "test.head()"
   ]
  },
  {
   "cell_type": "markdown",
   "metadata": {},
   "source": [
    "### 2\n",
    "2. **Используйте данные OSM**: подумайте, какие объекты могут влиять на продажи фичерфонов. Гипотеза: такие телефоны покупают люди, приезжающие в город или страну ненадолго, чтобы вставить туда отдельную симкарту для роуминга. Можно попробовать использовать местоположения железнодорожных вокзалов (изучите [этот тег](https://wiki.openstreetmap.org/wiki/Tag:railway%3Dstation)). Необходимо использовать хотя бы 5 разных типов объектов из OSM. Скорее всего, вам придется качать данные OSM отдельно для разных городов (см. пример для Нью-Йорка из лекции)"
   ]
  },
  {
   "cell_type": "markdown",
   "metadata": {},
   "source": [
    "#### Соберем данные из OSM для Москвы:"
   ]
  },
  {
   "cell_type": "code",
   "execution_count": 15,
   "metadata": {},
   "outputs": [],
   "source": [
    "overpass_url = \"http://overpass-api.de/api/interpreter\""
   ]
  },
  {
   "cell_type": "markdown",
   "metadata": {},
   "source": [
    "Метро:"
   ]
  },
  {
   "cell_type": "code",
   "execution_count": 16,
   "metadata": {},
   "outputs": [],
   "source": [
    "overpass_query = \"\"\"\n",
    "[out:json];\n",
    "area(3600102269);\n",
    "node[\"railway\"=\"station\"](area);\n",
    "out center;\n",
    "\"\"\"\n",
    "response = requests.get(overpass_url, \n",
    "                        params={'data': overpass_query})\n",
    "mos_und = response.json()"
   ]
  },
  {
   "cell_type": "markdown",
   "metadata": {},
   "source": [
    "Кафе"
   ]
  },
  {
   "cell_type": "code",
   "execution_count": 17,
   "metadata": {},
   "outputs": [],
   "source": [
    "overpass_query = \"\"\"\n",
    "[out:json];\n",
    "area(3600102269);\n",
    "node[\"amenity\"=\"cafe\"](area);\n",
    "out center;\n",
    "\"\"\"\n",
    "response = requests.get(overpass_url, \n",
    "                        params={'data': overpass_query})\n",
    "mos_caf = response.json()"
   ]
  },
  {
   "cell_type": "markdown",
   "metadata": {},
   "source": [
    "Гостиницы"
   ]
  },
  {
   "cell_type": "code",
   "execution_count": 18,
   "metadata": {},
   "outputs": [],
   "source": [
    "overpass_query = \"\"\"\n",
    "[out:json];\n",
    "area(3600102269);\n",
    "node[\"tourism\"=\"hotel\"](area);\n",
    "out center;\n",
    "\"\"\"\n",
    "response = requests.get(overpass_url, \n",
    "                        params={'data': overpass_query})\n",
    "mos_hot = response.json()"
   ]
  },
  {
   "cell_type": "markdown",
   "metadata": {},
   "source": [
    "Достопримечательности:"
   ]
  },
  {
   "cell_type": "code",
   "execution_count": 19,
   "metadata": {},
   "outputs": [],
   "source": [
    "overpass_query = \"\"\"\n",
    "[out:json];\n",
    "area(3600102269);\n",
    "node[\"tourism\"=\"attraction\"](area);\n",
    "out center;\n",
    "\"\"\"\n",
    "response = requests.get(overpass_url, \n",
    "                        params={'data': overpass_query})\n",
    "mos_att = response.json()"
   ]
  },
  {
   "cell_type": "markdown",
   "metadata": {},
   "source": [
    "Торговые центры:"
   ]
  },
  {
   "cell_type": "code",
   "execution_count": 20,
   "metadata": {},
   "outputs": [],
   "source": [
    "overpass_query = \"\"\"\n",
    "[out:json];\n",
    "area(3600102269);\n",
    "node[\"shop\"=\"mall\"](area);\n",
    "out center;\n",
    "\"\"\"\n",
    "response = requests.get(overpass_url, \n",
    "                        params={'data': overpass_query})\n",
    "mos_mal = response.json()"
   ]
  },
  {
   "cell_type": "markdown",
   "metadata": {},
   "source": [
    "#### Теперь загрузим данные для Санкт-Петербурга:"
   ]
  },
  {
   "cell_type": "markdown",
   "metadata": {},
   "source": [
    "Метро:"
   ]
  },
  {
   "cell_type": "code",
   "execution_count": 21,
   "metadata": {},
   "outputs": [],
   "source": [
    "overpass_query = \"\"\"\n",
    "[out:json];\n",
    "area(3600421007);\n",
    "node[\"railway\"=\"station\"](area);\n",
    "out center;\n",
    "\"\"\"\n",
    "response = requests.get(overpass_url, \n",
    "                        params={'data': overpass_query})\n",
    "spb_und = response.json()"
   ]
  },
  {
   "cell_type": "markdown",
   "metadata": {},
   "source": [
    "Кафе"
   ]
  },
  {
   "cell_type": "code",
   "execution_count": 22,
   "metadata": {},
   "outputs": [],
   "source": [
    "overpass_query = \"\"\"\n",
    "[out:json];\n",
    "area(3600421007);\n",
    "node[\"amenity\"=\"cafe\"](area);\n",
    "out center;\n",
    "\"\"\"\n",
    "response = requests.get(overpass_url, \n",
    "                        params={'data': overpass_query})\n",
    "spb_caf = response.json()"
   ]
  },
  {
   "cell_type": "markdown",
   "metadata": {},
   "source": [
    "Гостиницы"
   ]
  },
  {
   "cell_type": "code",
   "execution_count": 23,
   "metadata": {},
   "outputs": [],
   "source": [
    "overpass_query = \"\"\"\n",
    "[out:json];\n",
    "area(3600421007);\n",
    "node[\"tourism\"=\"hotel\"](area);\n",
    "out center;\n",
    "\"\"\"\n",
    "response = requests.get(overpass_url, \n",
    "                        params={'data': overpass_query})\n",
    "spb_hot = response.json()"
   ]
  },
  {
   "cell_type": "markdown",
   "metadata": {},
   "source": [
    "Достопримечательности:"
   ]
  },
  {
   "cell_type": "code",
   "execution_count": 24,
   "metadata": {},
   "outputs": [],
   "source": [
    "overpass_query = \"\"\"\n",
    "[out:json];\n",
    "area(3600421007);\n",
    "node[\"tourism\"=\"attraction\"](area);\n",
    "out center;\n",
    "\"\"\"\n",
    "response = requests.get(overpass_url, \n",
    "                        params={'data': overpass_query})\n",
    "spb_att = response.json()"
   ]
  },
  {
   "cell_type": "markdown",
   "metadata": {},
   "source": [
    "Торговые центры:"
   ]
  },
  {
   "cell_type": "code",
   "execution_count": 25,
   "metadata": {},
   "outputs": [],
   "source": [
    "overpass_query = \"\"\"\n",
    "[out:json];\n",
    "area(3600421007);\n",
    "node[\"shop\"=\"mall\"](area);\n",
    "out center;\n",
    "\"\"\"\n",
    "response = requests.get(overpass_url, \n",
    "                        params={'data': overpass_query})\n",
    "spb_mal = response.json()"
   ]
  },
  {
   "cell_type": "markdown",
   "metadata": {},
   "source": [
    "#### Ростов-на-Дону"
   ]
  },
  {
   "cell_type": "markdown",
   "metadata": {},
   "source": [
    "Станции:"
   ]
  },
  {
   "cell_type": "code",
   "execution_count": 26,
   "metadata": {},
   "outputs": [],
   "source": [
    "overpass_query = \"\"\"\n",
    "[out:json];\n",
    "area(3601285772);\n",
    "node[\"railway\"=\"station\"](area);\n",
    "out center;\n",
    "\"\"\"\n",
    "response = requests.get(overpass_url, \n",
    "                        params={'data': overpass_query})\n",
    "ros_sta = response.json()"
   ]
  },
  {
   "cell_type": "markdown",
   "metadata": {},
   "source": [
    "Кафе"
   ]
  },
  {
   "cell_type": "code",
   "execution_count": 27,
   "metadata": {},
   "outputs": [],
   "source": [
    "overpass_query = \"\"\"\n",
    "[out:json];\n",
    "area(3601285772);\n",
    "node[\"amenity\"=\"cafe\"](area);\n",
    "out center;\n",
    "\"\"\"\n",
    "response = requests.get(overpass_url, \n",
    "                        params={'data': overpass_query})\n",
    "ros_caf = response.json()"
   ]
  },
  {
   "cell_type": "markdown",
   "metadata": {},
   "source": [
    "Гостиницы"
   ]
  },
  {
   "cell_type": "code",
   "execution_count": 28,
   "metadata": {},
   "outputs": [],
   "source": [
    "overpass_query = \"\"\"\n",
    "[out:json];\n",
    "area(3601285772);\n",
    "node[\"tourism\"=\"hotel\"](area);\n",
    "out center;\n",
    "\"\"\"\n",
    "response = requests.get(overpass_url, \n",
    "                        params={'data': overpass_query})\n",
    "ros_hot = response.json()"
   ]
  },
  {
   "cell_type": "markdown",
   "metadata": {},
   "source": [
    "Достопримечательности:"
   ]
  },
  {
   "cell_type": "code",
   "execution_count": 29,
   "metadata": {},
   "outputs": [],
   "source": [
    "overpass_query = \"\"\"\n",
    "[out:json];\n",
    "area(3601285772);\n",
    "node[\"tourism\"=\"attraction\"](area);\n",
    "out center;\n",
    "\"\"\"\n",
    "response = requests.get(overpass_url, \n",
    "                        params={'data': overpass_query})\n",
    "ros_att = response.json()"
   ]
  },
  {
   "cell_type": "markdown",
   "metadata": {},
   "source": [
    "Торговые центры:"
   ]
  },
  {
   "cell_type": "code",
   "execution_count": 30,
   "metadata": {},
   "outputs": [],
   "source": [
    "overpass_query = \"\"\"\n",
    "[out:json];\n",
    "area(3601285772);\n",
    "node[\"shop\"=\"mall\"](area);\n",
    "out center;\n",
    "\"\"\"\n",
    "response = requests.get(overpass_url, \n",
    "                        params={'data': overpass_query})\n",
    "ros_mal = response.json()"
   ]
  },
  {
   "cell_type": "markdown",
   "metadata": {},
   "source": [
    "#### Самара"
   ]
  },
  {
   "cell_type": "markdown",
   "metadata": {},
   "source": [
    "Станции:"
   ]
  },
  {
   "cell_type": "code",
   "execution_count": 31,
   "metadata": {},
   "outputs": [],
   "source": [
    "overpass_query = \"\"\"\n",
    "[out:json];\n",
    "area(3600287507);\n",
    "node[\"railway\"=\"station\"](area);\n",
    "out center;\n",
    "\"\"\"\n",
    "response = requests.get(overpass_url, \n",
    "                        params={'data': overpass_query})\n",
    "sam_sta = response.json()"
   ]
  },
  {
   "cell_type": "markdown",
   "metadata": {},
   "source": [
    "Кафе"
   ]
  },
  {
   "cell_type": "code",
   "execution_count": 32,
   "metadata": {},
   "outputs": [],
   "source": [
    "overpass_query = \"\"\"\n",
    "[out:json];\n",
    "area(3600287507);\n",
    "node[\"amenity\"=\"cafe\"](area);\n",
    "out center;\n",
    "\"\"\"\n",
    "response = requests.get(overpass_url, \n",
    "                        params={'data': overpass_query})\n",
    "sam_caf = response.json()"
   ]
  },
  {
   "cell_type": "markdown",
   "metadata": {},
   "source": [
    "Гостиницы"
   ]
  },
  {
   "cell_type": "code",
   "execution_count": 33,
   "metadata": {},
   "outputs": [],
   "source": [
    "overpass_query = \"\"\"\n",
    "[out:json];\n",
    "area(3600287507);\n",
    "node[\"tourism\"=\"hotel\"](area);\n",
    "out center;\n",
    "\"\"\"\n",
    "response = requests.get(overpass_url, \n",
    "                        params={'data': overpass_query})\n",
    "sam_hot = response.json()"
   ]
  },
  {
   "cell_type": "markdown",
   "metadata": {},
   "source": [
    "Достопримечательности:"
   ]
  },
  {
   "cell_type": "code",
   "execution_count": 34,
   "metadata": {},
   "outputs": [],
   "source": [
    "overpass_query = \"\"\"\n",
    "[out:json];\n",
    "area(3600287507);\n",
    "node[\"tourism\"=\"attraction\"](area);\n",
    "out center;\n",
    "\"\"\"\n",
    "response = requests.get(overpass_url, \n",
    "                        params={'data': overpass_query})\n",
    "sam_att = response.json()"
   ]
  },
  {
   "cell_type": "markdown",
   "metadata": {},
   "source": [
    "Торговые центры:"
   ]
  },
  {
   "cell_type": "code",
   "execution_count": 35,
   "metadata": {},
   "outputs": [],
   "source": [
    "overpass_query = \"\"\"\n",
    "[out:json];\n",
    "area(3600287507);\n",
    "node[\"shop\"=\"mall\"](area);\n",
    "out center;\n",
    "\"\"\"\n",
    "response = requests.get(overpass_url, \n",
    "                        params={'data': overpass_query})\n",
    "sam_mal = response.json()"
   ]
  },
  {
   "cell_type": "markdown",
   "metadata": {},
   "source": [
    "#### Новосибирск"
   ]
  },
  {
   "cell_type": "markdown",
   "metadata": {},
   "source": [
    "Станции:"
   ]
  },
  {
   "cell_type": "code",
   "execution_count": 36,
   "metadata": {},
   "outputs": [],
   "source": [
    "overpass_query = \"\"\"\n",
    "[out:json];\n",
    "area(3601751445);\n",
    "node[\"railway\"=\"station\"](area);\n",
    "out center;\n",
    "\"\"\"\n",
    "response = requests.get(overpass_url, \n",
    "                        params={'data': overpass_query})\n",
    "nvs_sta = response.json()"
   ]
  },
  {
   "cell_type": "markdown",
   "metadata": {},
   "source": [
    "Кафе"
   ]
  },
  {
   "cell_type": "code",
   "execution_count": 37,
   "metadata": {},
   "outputs": [],
   "source": [
    "overpass_query = \"\"\"\n",
    "[out:json];\n",
    "area(3601751445);\n",
    "node[\"amenity\"=\"cafe\"](area);\n",
    "out center;\n",
    "\"\"\"\n",
    "response = requests.get(overpass_url, \n",
    "                        params={'data': overpass_query})\n",
    "nvs_caf = response.json()"
   ]
  },
  {
   "cell_type": "markdown",
   "metadata": {},
   "source": [
    "Гостиницы"
   ]
  },
  {
   "cell_type": "code",
   "execution_count": 38,
   "metadata": {},
   "outputs": [],
   "source": [
    "overpass_query = \"\"\"\n",
    "[out:json];\n",
    "area(3601751445);\n",
    "node[\"tourism\"=\"hotel\"](area);\n",
    "out center;\n",
    "\"\"\"\n",
    "response = requests.get(overpass_url, \n",
    "                        params={'data': overpass_query})\n",
    "nvs_hot = response.json()"
   ]
  },
  {
   "cell_type": "markdown",
   "metadata": {},
   "source": [
    "Достопримечательности:"
   ]
  },
  {
   "cell_type": "code",
   "execution_count": 39,
   "metadata": {},
   "outputs": [],
   "source": [
    "overpass_query = \"\"\"\n",
    "[out:json];\n",
    "area(3601751445);\n",
    "node[\"tourism\"=\"attraction\"](area);\n",
    "out center;\n",
    "\"\"\"\n",
    "response = requests.get(overpass_url, \n",
    "                        params={'data': overpass_query})\n",
    "nvs_att = response.json()"
   ]
  },
  {
   "cell_type": "markdown",
   "metadata": {},
   "source": [
    "Торговые центры:"
   ]
  },
  {
   "cell_type": "code",
   "execution_count": 40,
   "metadata": {},
   "outputs": [],
   "source": [
    "overpass_query = \"\"\"\n",
    "[out:json];\n",
    "area(3601751445);\n",
    "node[\"shop\"=\"mall\"](area);\n",
    "out center;\n",
    "\"\"\"\n",
    "response = requests.get(overpass_url, \n",
    "                        params={'data': overpass_query})\n",
    "nvs_mal = response.json()"
   ]
  },
  {
   "cell_type": "markdown",
   "metadata": {},
   "source": [
    "#### Казань"
   ]
  },
  {
   "cell_type": "markdown",
   "metadata": {},
   "source": [
    "Станции:"
   ]
  },
  {
   "cell_type": "code",
   "execution_count": 41,
   "metadata": {},
   "outputs": [],
   "source": [
    "overpass_query = \"\"\"\n",
    "[out:json];\n",
    "area(3600367666);\n",
    "node[\"railway\"=\"station\"](area);\n",
    "out center;\n",
    "\"\"\"\n",
    "response = requests.get(overpass_url, \n",
    "                        params={'data': overpass_query})\n",
    "kaz_sta = response.json()"
   ]
  },
  {
   "cell_type": "markdown",
   "metadata": {},
   "source": [
    "Кафе"
   ]
  },
  {
   "cell_type": "code",
   "execution_count": 42,
   "metadata": {},
   "outputs": [],
   "source": [
    "overpass_query = \"\"\"\n",
    "[out:json];\n",
    "area(3600367666);\n",
    "node[\"amenity\"=\"cafe\"](area);\n",
    "out center;\n",
    "\"\"\"\n",
    "response = requests.get(overpass_url, \n",
    "                        params={'data': overpass_query})\n",
    "kaz_caf = response.json()"
   ]
  },
  {
   "cell_type": "markdown",
   "metadata": {},
   "source": [
    "Гостиницы"
   ]
  },
  {
   "cell_type": "code",
   "execution_count": 43,
   "metadata": {},
   "outputs": [],
   "source": [
    "overpass_query = \"\"\"\n",
    "[out:json];\n",
    "area(3600367666);\n",
    "node[\"tourism\"=\"hotel\"](area);\n",
    "out center;\n",
    "\"\"\"\n",
    "response = requests.get(overpass_url, \n",
    "                        params={'data': overpass_query})\n",
    "kaz_hot = response.json()"
   ]
  },
  {
   "cell_type": "markdown",
   "metadata": {},
   "source": [
    "Достопримечательности:"
   ]
  },
  {
   "cell_type": "code",
   "execution_count": 44,
   "metadata": {},
   "outputs": [],
   "source": [
    "overpass_query = \"\"\"\n",
    "[out:json];\n",
    "area(3600367666);\n",
    "node[\"tourism\"=\"attraction\"](area);\n",
    "out center;\n",
    "\"\"\"\n",
    "response = requests.get(overpass_url, \n",
    "                        params={'data': overpass_query})\n",
    "kaz_att = response.json()"
   ]
  },
  {
   "cell_type": "markdown",
   "metadata": {},
   "source": [
    "Торговые центры:"
   ]
  },
  {
   "cell_type": "code",
   "execution_count": 45,
   "metadata": {},
   "outputs": [],
   "source": [
    "overpass_query = \"\"\"\n",
    "[out:json];\n",
    "area(3600367666);\n",
    "node[\"shop\"=\"mall\"](area);\n",
    "out center;\n",
    "\"\"\"\n",
    "response = requests.get(overpass_url, \n",
    "                        params={'data': overpass_query})\n",
    "kaz_mal = response.json()"
   ]
  },
  {
   "cell_type": "markdown",
   "metadata": {},
   "source": [
    "#### Екатеринбург"
   ]
  },
  {
   "cell_type": "markdown",
   "metadata": {},
   "source": [
    "Станции:"
   ]
  },
  {
   "cell_type": "code",
   "execution_count": 46,
   "metadata": {},
   "outputs": [],
   "source": [
    "overpass_query = \"\"\"\n",
    "[out:json];\n",
    "area(3606564910);\n",
    "node[\"railway\"=\"station\"](area);\n",
    "out center;\n",
    "\"\"\"\n",
    "response = requests.get(overpass_url, \n",
    "                        params={'data': overpass_query})\n",
    "ek_sta = response.json()"
   ]
  },
  {
   "cell_type": "markdown",
   "metadata": {},
   "source": [
    "Кафе"
   ]
  },
  {
   "cell_type": "code",
   "execution_count": 47,
   "metadata": {},
   "outputs": [],
   "source": [
    "overpass_query = \"\"\"\n",
    "[out:json];\n",
    "area(3606564910);\n",
    "node[\"amenity\"=\"cafe\"](area);\n",
    "out center;\n",
    "\"\"\"\n",
    "response = requests.get(overpass_url, \n",
    "                        params={'data': overpass_query})\n",
    "ek_caf = response.json()"
   ]
  },
  {
   "cell_type": "markdown",
   "metadata": {},
   "source": [
    "Гостиницы"
   ]
  },
  {
   "cell_type": "code",
   "execution_count": 48,
   "metadata": {},
   "outputs": [],
   "source": [
    "overpass_query = \"\"\"\n",
    "[out:json];\n",
    "area(3606564910);\n",
    "node[\"tourism\"=\"hotel\"](area);\n",
    "out center;\n",
    "\"\"\"\n",
    "response = requests.get(overpass_url, \n",
    "                        params={'data': overpass_query})\n",
    "ek_hot = response.json()"
   ]
  },
  {
   "cell_type": "markdown",
   "metadata": {},
   "source": [
    "Достопримечательности:"
   ]
  },
  {
   "cell_type": "code",
   "execution_count": 49,
   "metadata": {},
   "outputs": [],
   "source": [
    "overpass_query = \"\"\"\n",
    "[out:json];\n",
    "area(3606564910);\n",
    "node[\"tourism\"=\"attraction\"](area);\n",
    "out center;\n",
    "\"\"\"\n",
    "response = requests.get(overpass_url, \n",
    "                        params={'data': overpass_query})\n",
    "ek_att = response.json()"
   ]
  },
  {
   "cell_type": "markdown",
   "metadata": {},
   "source": [
    "Торговые центры:"
   ]
  },
  {
   "cell_type": "code",
   "execution_count": 50,
   "metadata": {},
   "outputs": [],
   "source": [
    "overpass_query = \"\"\"\n",
    "[out:json];\n",
    "area(3606564910);\n",
    "node[\"shop\"=\"mall\"](area);\n",
    "out center;\n",
    "\"\"\"\n",
    "response = requests.get(overpass_url, \n",
    "                        params={'data': overpass_query})\n",
    "ek_mal = response.json()"
   ]
  },
  {
   "cell_type": "markdown",
   "metadata": {},
   "source": [
    "#### Новгород"
   ]
  },
  {
   "cell_type": "markdown",
   "metadata": {},
   "source": [
    "Станции:"
   ]
  },
  {
   "cell_type": "code",
   "execution_count": 318,
   "metadata": {},
   "outputs": [],
   "source": [
    "overpass_query = \"\"\"\n",
    "[out:json];\n",
    "area(3601752948);\n",
    "node[\"railway\"=\"station\"](area);\n",
    "out center;\n",
    "\"\"\"\n",
    "response = requests.get(overpass_url, \n",
    "                        params={'data': overpass_query})\n",
    "nvg_sta = response.json()"
   ]
  },
  {
   "cell_type": "markdown",
   "metadata": {},
   "source": [
    "Кафе"
   ]
  },
  {
   "cell_type": "code",
   "execution_count": 319,
   "metadata": {},
   "outputs": [],
   "source": [
    "overpass_query = \"\"\"\n",
    "[out:json];\n",
    "area(3601752948);\n",
    "node[\"amenity\"=\"cafe\"](area);\n",
    "out center;\n",
    "\"\"\"\n",
    "response = requests.get(overpass_url, \n",
    "                        params={'data': overpass_query})\n",
    "nvg_caf = response.json()"
   ]
  },
  {
   "cell_type": "markdown",
   "metadata": {},
   "source": [
    "Гостиницы"
   ]
  },
  {
   "cell_type": "code",
   "execution_count": 320,
   "metadata": {},
   "outputs": [],
   "source": [
    "overpass_query = \"\"\"\n",
    "[out:json];\n",
    "area(3601752948);\n",
    "node[\"tourism\"=\"hotel\"](area);\n",
    "out center;\n",
    "\"\"\"\n",
    "response = requests.get(overpass_url, \n",
    "                        params={'data': overpass_query})\n",
    "nvg_hot = response.json()"
   ]
  },
  {
   "cell_type": "markdown",
   "metadata": {},
   "source": [
    "Достопримечательности:"
   ]
  },
  {
   "cell_type": "code",
   "execution_count": 321,
   "metadata": {},
   "outputs": [],
   "source": [
    "overpass_query = \"\"\"\n",
    "[out:json];\n",
    "area(3601752948);\n",
    "node[\"tourism\"=\"attraction\"](area);\n",
    "out center;\n",
    "\"\"\"\n",
    "response = requests.get(overpass_url, \n",
    "                        params={'data': overpass_query})\n",
    "nvg_att = response.json()"
   ]
  },
  {
   "cell_type": "markdown",
   "metadata": {},
   "source": [
    "Торговые центры:"
   ]
  },
  {
   "cell_type": "code",
   "execution_count": 322,
   "metadata": {},
   "outputs": [],
   "source": [
    "overpass_query = \"\"\"\n",
    "[out:json];\n",
    "area(3601752948);\n",
    "node[\"shop\"=\"mall\"](area);\n",
    "out center;\n",
    "\"\"\"\n",
    "response = requests.get(overpass_url, \n",
    "                        params={'data': overpass_query})\n",
    "nvg_mal = response.json()"
   ]
  },
  {
   "cell_type": "markdown",
   "metadata": {},
   "source": [
    "#### Красноярск"
   ]
  },
  {
   "cell_type": "markdown",
   "metadata": {},
   "source": [
    "Станции"
   ]
  },
  {
   "cell_type": "code",
   "execution_count": 56,
   "metadata": {},
   "outputs": [],
   "source": [
    "overpass_query = \"\"\"\n",
    "[out:json];\n",
    "area(3601430616);\n",
    "node[\"railway\"=\"station\"](area);\n",
    "out center;\n",
    "\"\"\"\n",
    "response = requests.get(overpass_url, \n",
    "                        params={'data': overpass_query})\n",
    "kras_sta = response.json()"
   ]
  },
  {
   "cell_type": "markdown",
   "metadata": {},
   "source": [
    "Кафе"
   ]
  },
  {
   "cell_type": "code",
   "execution_count": 57,
   "metadata": {},
   "outputs": [],
   "source": [
    "overpass_query = \"\"\"\n",
    "[out:json];\n",
    "area(3601430616);\n",
    "node[\"amenity\"=\"cafe\"](area);\n",
    "out center;\n",
    "\"\"\"\n",
    "response = requests.get(overpass_url, \n",
    "                        params={'data': overpass_query})\n",
    "kras_caf = response.json()"
   ]
  },
  {
   "cell_type": "markdown",
   "metadata": {},
   "source": [
    "Гостиницы"
   ]
  },
  {
   "cell_type": "code",
   "execution_count": 58,
   "metadata": {},
   "outputs": [],
   "source": [
    "overpass_query = \"\"\"\n",
    "[out:json];\n",
    "area(3601430616);\n",
    "node[\"tourism\"=\"hotel\"](area);\n",
    "out center;\n",
    "\"\"\"\n",
    "response = requests.get(overpass_url, \n",
    "                        params={'data': overpass_query})\n",
    "kras_hot = response.json()"
   ]
  },
  {
   "cell_type": "markdown",
   "metadata": {},
   "source": [
    "Достопримечательности:"
   ]
  },
  {
   "cell_type": "code",
   "execution_count": 59,
   "metadata": {},
   "outputs": [],
   "source": [
    "overpass_query = \"\"\"\n",
    "[out:json];\n",
    "area(3601430616);\n",
    "node[\"tourism\"=\"attraction\"](area);\n",
    "out center;\n",
    "\"\"\"\n",
    "response = requests.get(overpass_url, \n",
    "                        params={'data': overpass_query})\n",
    "kras_att = response.json()"
   ]
  },
  {
   "cell_type": "markdown",
   "metadata": {},
   "source": [
    "Торговые центры:"
   ]
  },
  {
   "cell_type": "code",
   "execution_count": 60,
   "metadata": {},
   "outputs": [],
   "source": [
    "overpass_query = \"\"\"\n",
    "[out:json];\n",
    "area(3601430616);\n",
    "node[\"shop\"=\"mall\"](area);\n",
    "out center;\n",
    "\"\"\"\n",
    "response = requests.get(overpass_url, \n",
    "                        params={'data': overpass_query})\n",
    "kras_mal = response.json()"
   ]
  },
  {
   "cell_type": "markdown",
   "metadata": {},
   "source": [
    "#### Уфа"
   ]
  },
  {
   "cell_type": "markdown",
   "metadata": {},
   "source": [
    "Станции"
   ]
  },
  {
   "cell_type": "code",
   "execution_count": 61,
   "metadata": {},
   "outputs": [],
   "source": [
    "overpass_query = \"\"\"\n",
    "[out:json];\n",
    "area(3601549169);\n",
    "node[\"railway\"=\"station\"](area);\n",
    "out center;\n",
    "\"\"\"\n",
    "response = requests.get(overpass_url, \n",
    "                        params={'data': overpass_query})\n",
    "ufa_sta = response.json()"
   ]
  },
  {
   "cell_type": "markdown",
   "metadata": {},
   "source": [
    "Кафе"
   ]
  },
  {
   "cell_type": "code",
   "execution_count": 62,
   "metadata": {},
   "outputs": [],
   "source": [
    "overpass_query = \"\"\"\n",
    "[out:json];\n",
    "area(3601549169);\n",
    "node[\"amenity\"=\"cafe\"](area);\n",
    "out center;\n",
    "\"\"\"\n",
    "response = requests.get(overpass_url, \n",
    "                        params={'data': overpass_query})\n",
    "ufa_caf = response.json()"
   ]
  },
  {
   "cell_type": "markdown",
   "metadata": {},
   "source": [
    "Гостиницы"
   ]
  },
  {
   "cell_type": "code",
   "execution_count": 63,
   "metadata": {},
   "outputs": [],
   "source": [
    "overpass_query = \"\"\"\n",
    "[out:json];\n",
    "area(3601549169);\n",
    "node[\"tourism\"=\"hotel\"](area);\n",
    "out center;\n",
    "\"\"\"\n",
    "response = requests.get(overpass_url, \n",
    "                        params={'data': overpass_query})\n",
    "ufa_hot = response.json()"
   ]
  },
  {
   "cell_type": "markdown",
   "metadata": {},
   "source": [
    "Достопримечательности:"
   ]
  },
  {
   "cell_type": "code",
   "execution_count": 64,
   "metadata": {},
   "outputs": [],
   "source": [
    "overpass_query = \"\"\"\n",
    "[out:json];\n",
    "area(3601549169);\n",
    "node[\"tourism\"=\"attraction\"](area);\n",
    "out center;\n",
    "\"\"\"\n",
    "response = requests.get(overpass_url, \n",
    "                        params={'data': overpass_query})\n",
    "ufa_att = response.json()"
   ]
  },
  {
   "cell_type": "markdown",
   "metadata": {},
   "source": [
    "Торговые центры:"
   ]
  },
  {
   "cell_type": "code",
   "execution_count": 65,
   "metadata": {},
   "outputs": [],
   "source": [
    "overpass_query = \"\"\"\n",
    "[out:json];\n",
    "area(3601549169);\n",
    "node[\"shop\"=\"mall\"](area);\n",
    "out center;\n",
    "\"\"\"\n",
    "response = requests.get(overpass_url, \n",
    "                        params={'data': overpass_query})\n",
    "ufa_mal = response.json()"
   ]
  },
  {
   "cell_type": "markdown",
   "metadata": {},
   "source": [
    "### 3\n",
    "3. **Используйте разные способы генерации признаков**: описать положение салона МегаФона относительно станций метро можно разными способами - найти ***расстояние до ближайшей станции***, или же посчитать, сколько станций попадает в ***500 метровую буферную зону*** вокруг салона. Такие признаки будут нести разную информацию. Так же попробуйте поэкспериментировать с размерами буферных зон (представьте, что значат в реальности радиусы 100, 500, 1000 метров). Попробуйте посчитать расстояние до центра города, до других объектов."
   ]
  },
  {
   "cell_type": "code",
   "execution_count": 74,
   "metadata": {},
   "outputs": [],
   "source": [
    "from shapely.geometry import Point, Polygon"
   ]
  },
  {
   "cell_type": "markdown",
   "metadata": {},
   "source": [
    "#### Москва"
   ]
  },
  {
   "cell_type": "markdown",
   "metadata": {},
   "source": [
    "Признак количество кафе в радиусе 1 км"
   ]
  },
  {
   "cell_type": "code",
   "execution_count": 358,
   "metadata": {},
   "outputs": [],
   "source": [
    "moscow = train[train.city == 'Москва']\n",
    "df_mos_caf = gpd.GeoDataFrame(mos_caf['elements'])\n",
    "for i in moscow.index:\n",
    "    point = Point(train.lat[i], train.lon[i]).buffer(0.01) # я выбрал простой путь, 0.01 градусов на 1 км\n",
    "    n = 0\n",
    "    for j in df_mos_caf.index:\n",
    "        if point.contains(Point(df_mos_caf.lat[j], df_mos_caf.lon[j])):\n",
    "            n += 1\n",
    "    train.loc[i, 'cafes'] = n"
   ]
  },
  {
   "cell_type": "markdown",
   "metadata": {},
   "source": [
    "Количество гостиниц в радиусе 1 км"
   ]
  },
  {
   "cell_type": "code",
   "execution_count": 152,
   "metadata": {},
   "outputs": [],
   "source": [
    "df_mos_hot = gpd.GeoDataFrame(mos_hot['elements'])\n",
    "df_mos_att = gpd.GeoDataFrame(mos_att['elements'])\n",
    "df_mos_mal = gpd.GeoDataFrame(mos_mal['elements'])\n",
    "for i in moscow.index:\n",
    "    point = Point(train.lat[i], train.lon[i]).buffer(0.01) # я выбрал простой путь, 0.01 градусов на 1 км\n",
    "    n = 0\n",
    "    for j in df_mos_hot.index:\n",
    "        if point.contains(Point(df_mos_hot.lat[j], df_mos_hot.lon[j])):\n",
    "            n += 1\n",
    "    train.loc[i, 'hotels'] = n"
   ]
  },
  {
   "cell_type": "markdown",
   "metadata": {},
   "source": [
    "Количество достопримечательностей в радиусе 1 км"
   ]
  },
  {
   "cell_type": "code",
   "execution_count": 154,
   "metadata": {},
   "outputs": [],
   "source": [
    "for i in moscow.index:\n",
    "    point = Point(train.lat[i], train.lon[i]).buffer(0.01) # я выбрал простой путь, 0.01 градусов на 1 км\n",
    "    n = 0\n",
    "    for j in df_mos_att.index:\n",
    "        if point.contains(Point(df_mos_att.lat[j], df_mos_att.lon[j])):\n",
    "            n += 1\n",
    "    train.loc[i, 'attractions'] = n"
   ]
  },
  {
   "cell_type": "markdown",
   "metadata": {},
   "source": [
    "Количество торговых центров в радиусе 1 км"
   ]
  },
  {
   "cell_type": "code",
   "execution_count": 156,
   "metadata": {},
   "outputs": [],
   "source": [
    "for i in moscow.index:\n",
    "    point = Point(train.lat[i], train.lon[i]).buffer(0.01) # я выбрал простой путь, 0.01 градусов на 1 км\n",
    "    n = 0\n",
    "    for j in df_mos_mal.index:\n",
    "        if point.contains(Point(df_mos_mal.lat[j], df_mos_mal.lon[j])):\n",
    "            n += 1\n",
    "    train.loc[i, 'malls'] = n"
   ]
  },
  {
   "cell_type": "markdown",
   "metadata": {},
   "source": [
    "Количество станций в радиусе 1 км"
   ]
  },
  {
   "cell_type": "code",
   "execution_count": 158,
   "metadata": {},
   "outputs": [],
   "source": [
    "df_mos_sta = gpd.GeoDataFrame(mos_und['elements'])\n",
    "for i in moscow.index:\n",
    "    point = Point(train.lat[i], train.lon[i]).buffer(0.01) # я выбрал простой путь, 0.01 градусов на 1 км\n",
    "    n = 0\n",
    "    for j in df_mos_sta.index:\n",
    "        if point.contains(Point(df_mos_sta.lat[j], df_mos_sta.lon[j])):\n",
    "            n += 1\n",
    "    train.loc[i, 'stations'] = n"
   ]
  },
  {
   "cell_type": "code",
   "execution_count": 209,
   "metadata": {},
   "outputs": [],
   "source": [
    "from geopy import distance"
   ]
  },
  {
   "cell_type": "markdown",
   "metadata": {},
   "source": [
    "Расстояние до близжайшей станции"
   ]
  },
  {
   "cell_type": "code",
   "execution_count": 213,
   "metadata": {},
   "outputs": [],
   "source": [
    "for i in moscow.index:\n",
    "    point = (train.lon[i], train.lat[i])\n",
    "    dist = 500\n",
    "    for j in df_mos_sta.index:\n",
    "        station = (df_mos_sta.lon[j], df_mos_sta.lat[j])\n",
    "        if distance.geodesic(point, station).km < dist:\n",
    "            dist = distance.geodesic(point, station).km\n",
    "    train.loc[i, 'min_dist_stat'] = dist"
   ]
  },
  {
   "cell_type": "markdown",
   "metadata": {},
   "source": [
    "Расстояние до центра"
   ]
  },
  {
   "cell_type": "code",
   "execution_count": 216,
   "metadata": {},
   "outputs": [],
   "source": [
    "for i in moscow.index:\n",
    "    point = (train.lon[i], train.lat[i])\n",
    "    center = (37.6174943, 55.7504461)\n",
    "    train.loc[i, 'dist_center'] = distance.geodesic(point, center).km"
   ]
  },
  {
   "cell_type": "markdown",
   "metadata": {},
   "source": [
    "Расстояние до близжайшего салона"
   ]
  },
  {
   "cell_type": "code",
   "execution_count": 221,
   "metadata": {},
   "outputs": [],
   "source": [
    "for i in moscow.index:\n",
    "    point = (train.lon[i], train.lat[i])\n",
    "    dist = 500\n",
    "    for j in moscow.index:\n",
    "        if j != i:\n",
    "            salon = (train.lon[j], train.lat[j])\n",
    "            if distance.geodesic(point, salon).km < dist:\n",
    "                dist = distance.geodesic(point, salon).km\n",
    "    train.loc[i, 'dist_salon'] = dist"
   ]
  },
  {
   "cell_type": "markdown",
   "metadata": {},
   "source": [
    "Проделаем все тоже самое для других городов."
   ]
  },
  {
   "cell_type": "markdown",
   "metadata": {},
   "source": [
    "#### Санкт-Петербург"
   ]
  },
  {
   "cell_type": "markdown",
   "metadata": {},
   "source": [
    "Признак количество кафе в радиусе 1 км"
   ]
  },
  {
   "cell_type": "code",
   "execution_count": 223,
   "metadata": {},
   "outputs": [],
   "source": [
    "spb = train[train.city == 'Санкт-Петербург']\n",
    "df_spb_caf = gpd.GeoDataFrame(spb_caf['elements'])\n",
    "for i in spb.index:\n",
    "    point = Point(train.lat[i], train.lon[i]).buffer(0.01) # я выбрал простой путь, 0.01 градусов на 1 км\n",
    "    n = 0\n",
    "    for j in df_spb_caf.index:\n",
    "        if point.contains(Point(df_spb_caf.lat[j], df_spb_caf.lon[j])):\n",
    "            n += 1\n",
    "    train.loc[i, 'cafes'] = n"
   ]
  },
  {
   "cell_type": "markdown",
   "metadata": {},
   "source": [
    "Количество гостиниц в радиусе 1 км"
   ]
  },
  {
   "cell_type": "code",
   "execution_count": 224,
   "metadata": {},
   "outputs": [],
   "source": [
    "df_spb_hot = gpd.GeoDataFrame(spb_hot['elements'])\n",
    "df_spb_att = gpd.GeoDataFrame(spb_att['elements'])\n",
    "df_spb_mal = gpd.GeoDataFrame(spb_mal['elements'])\n",
    "for i in spb.index:\n",
    "    point = Point(train.lat[i], train.lon[i]).buffer(0.01) # я выбрал простой путь, 0.01 градусов на 1 км\n",
    "    n = 0\n",
    "    for j in df_spb_hot.index:\n",
    "        if point.contains(Point(df_spb_hot.lat[j], df_spb_hot.lon[j])):\n",
    "            n += 1\n",
    "    train.loc[i, 'hotels'] = n"
   ]
  },
  {
   "cell_type": "markdown",
   "metadata": {},
   "source": [
    "Количество достопримечательностей в радиусе 1 км"
   ]
  },
  {
   "cell_type": "code",
   "execution_count": 225,
   "metadata": {},
   "outputs": [],
   "source": [
    "for i in spb.index:\n",
    "    point = Point(train.lat[i], train.lon[i]).buffer(0.01) # я выбрал простой путь, 0.01 градусов на 1 км\n",
    "    n = 0\n",
    "    for j in df_spb_att.index:\n",
    "        if point.contains(Point(df_spb_att.lat[j], df_spb_att.lon[j])):\n",
    "            n += 1\n",
    "    train.loc[i, 'attractions'] = n"
   ]
  },
  {
   "cell_type": "markdown",
   "metadata": {},
   "source": [
    "Количество торговых центров в радиусе 1 км"
   ]
  },
  {
   "cell_type": "code",
   "execution_count": 226,
   "metadata": {},
   "outputs": [],
   "source": [
    "for i in spb.index:\n",
    "    point = Point(train.lat[i], train.lon[i]).buffer(0.01) # я выбрал простой путь, 0.01 градусов на 1 км\n",
    "    n = 0\n",
    "    for j in df_spb_mal.index:\n",
    "        if point.contains(Point(df_spb_mal.lat[j], df_spb_mal.lon[j])):\n",
    "            n += 1\n",
    "    train.loc[i, 'malls'] = n"
   ]
  },
  {
   "cell_type": "markdown",
   "metadata": {},
   "source": [
    "Количество станций в радиусе 1 км"
   ]
  },
  {
   "cell_type": "code",
   "execution_count": 227,
   "metadata": {},
   "outputs": [],
   "source": [
    "df_spb_sta = gpd.GeoDataFrame(spb_und['elements'])\n",
    "for i in spb.index:\n",
    "    point = Point(train.lat[i], train.lon[i]).buffer(0.01) # я выбрал простой путь, 0.01 градусов на 1 км\n",
    "    n = 0\n",
    "    for j in df_spb_sta.index:\n",
    "        if point.contains(Point(df_spb_sta.lat[j], df_spb_sta.lon[j])):\n",
    "            n += 1\n",
    "    train.loc[i, 'stations'] = n"
   ]
  },
  {
   "cell_type": "markdown",
   "metadata": {},
   "source": [
    "Расстояние до близжайшей станции"
   ]
  },
  {
   "cell_type": "code",
   "execution_count": 228,
   "metadata": {},
   "outputs": [],
   "source": [
    "for i in spb.index:\n",
    "    point = (train.lon[i], train.lat[i])\n",
    "    dist = 500\n",
    "    for j in df_spb_sta.index:\n",
    "        station = (df_spb_sta.lon[j], df_spb_sta.lat[j])\n",
    "        if distance.geodesic(point, station).km < dist:\n",
    "            dist = distance.geodesic(point, station).km\n",
    "    train.loc[i, 'min_dist_stat'] = dist"
   ]
  },
  {
   "cell_type": "markdown",
   "metadata": {},
   "source": [
    "Расстояние до центра"
   ]
  },
  {
   "cell_type": "code",
   "execution_count": 453,
   "metadata": {},
   "outputs": [],
   "source": [
    "for i in spb.index:\n",
    "    point = (train.lon[i], train.lat[i])\n",
    "    center = (30.316229, 59.938732)\n",
    "    train.loc[i, 'dist_center'] = distance.geodesic(point, center).km"
   ]
  },
  {
   "cell_type": "markdown",
   "metadata": {},
   "source": [
    "Расстояние до близжайшего салона"
   ]
  },
  {
   "cell_type": "code",
   "execution_count": 230,
   "metadata": {},
   "outputs": [],
   "source": [
    "for i in spb.index:\n",
    "    point = (train.lon[i], train.lat[i])\n",
    "    dist = 500\n",
    "    for j in spb.index:\n",
    "        if j != i:\n",
    "            salon = (train.lon[j], train.lat[j])\n",
    "            if distance.geodesic(point, salon).km < dist:\n",
    "                dist = distance.geodesic(point, salon).km\n",
    "    train.loc[i, 'dist_salon'] = dist"
   ]
  },
  {
   "cell_type": "markdown",
   "metadata": {},
   "source": [
    "#### Ростов-на-Дону"
   ]
  },
  {
   "cell_type": "markdown",
   "metadata": {},
   "source": [
    "Признак количество кафе в радиусе 1 км"
   ]
  },
  {
   "cell_type": "code",
   "execution_count": 233,
   "metadata": {},
   "outputs": [],
   "source": [
    "ros = train[train.city == 'Ростов-на-Дону']\n",
    "df_ros_caf = gpd.GeoDataFrame(ros_caf['elements'])\n",
    "for i in ros.index:\n",
    "    point = Point(train.lat[i], train.lon[i]).buffer(0.01) # я выбрал простой путь, 0.01 градусов на 1 км\n",
    "    n = 0\n",
    "    for j in df_ros_caf.index:\n",
    "        if point.contains(Point(df_ros_caf.lat[j], df_ros_caf.lon[j])):\n",
    "            n += 1\n",
    "    train.loc[i, 'cafes'] = n"
   ]
  },
  {
   "cell_type": "markdown",
   "metadata": {},
   "source": [
    "Количество гостиниц в радиусе 1 км"
   ]
  },
  {
   "cell_type": "code",
   "execution_count": 234,
   "metadata": {},
   "outputs": [],
   "source": [
    "df_ros_hot = gpd.GeoDataFrame(ros_hot['elements'])\n",
    "df_ros_att = gpd.GeoDataFrame(ros_att['elements'])\n",
    "df_ros_mal = gpd.GeoDataFrame(ros_mal['elements'])\n",
    "for i in ros.index:\n",
    "    point = Point(train.lat[i], train.lon[i]).buffer(0.01) # я выбрал простой путь, 0.01 градусов на 1 км\n",
    "    n = 0\n",
    "    for j in df_ros_hot.index:\n",
    "        if point.contains(Point(df_ros_hot.lat[j], df_ros_hot.lon[j])):\n",
    "            n += 1\n",
    "    train.loc[i, 'hotels'] = n"
   ]
  },
  {
   "cell_type": "markdown",
   "metadata": {},
   "source": [
    "Количество достопримечательностей в радиусе 1 км"
   ]
  },
  {
   "cell_type": "code",
   "execution_count": 235,
   "metadata": {},
   "outputs": [],
   "source": [
    "for i in ros.index:\n",
    "    point = Point(train.lat[i], train.lon[i]).buffer(0.01) # я выбрал простой путь, 0.01 градусов на 1 км\n",
    "    n = 0\n",
    "    for j in df_ros_att.index:\n",
    "        if point.contains(Point(df_ros_att.lat[j], df_ros_att.lon[j])):\n",
    "            n += 1\n",
    "    train.loc[i, 'attractions'] = n"
   ]
  },
  {
   "cell_type": "markdown",
   "metadata": {},
   "source": [
    "Количество торговых центров в радиусе 1 км"
   ]
  },
  {
   "cell_type": "code",
   "execution_count": 241,
   "metadata": {},
   "outputs": [],
   "source": [
    "for i in ros.index:\n",
    "    point = Point(train.lat[i], train.lon[i]).buffer(0.01) # я выбрал простой путь, 0.01 градусов на 1 км\n",
    "    n = 0\n",
    "    for j in df_ros_mal.index:\n",
    "        if point.contains(Point(df_ros_mal.lat[j], df_ros_mal.lon[j])):\n",
    "            n += 1\n",
    "    train.loc[i, 'malls'] = n"
   ]
  },
  {
   "cell_type": "markdown",
   "metadata": {},
   "source": [
    "Количество станций в радиусе 1 км"
   ]
  },
  {
   "cell_type": "code",
   "execution_count": 248,
   "metadata": {},
   "outputs": [],
   "source": [
    "df_ros_sta = gpd.GeoDataFrame(ros_sta['elements'])\n",
    "for i in ros.index:\n",
    "    point = Point(train.lat[i], train.lon[i]).buffer(0.01) # я выбрал простой путь, 0.01 градусов на 1 км\n",
    "    n = 0\n",
    "    for j in df_ros_sta.index:\n",
    "        if point.contains(Point(df_ros_sta.lat[j], df_ros_sta.lon[j])):\n",
    "            n += 1\n",
    "    train.loc[i, 'stations'] = n"
   ]
  },
  {
   "cell_type": "markdown",
   "metadata": {},
   "source": [
    "Расстояние до близжайшей станции"
   ]
  },
  {
   "cell_type": "code",
   "execution_count": 297,
   "metadata": {},
   "outputs": [],
   "source": [
    "for i in ros.index:\n",
    "    point = (train.lon[i], train.lat[i])\n",
    "    dist = 500\n",
    "    for j in df_ros_sta.index:\n",
    "        station = (df_ros_sta.lon[j], df_ros_sta.lat[j])\n",
    "        if distance.geodesic(point, station).km < dist:\n",
    "            dist = distance.geodesic(point, station).km\n",
    "    train.loc[i, 'min_dist_stat'] = dist"
   ]
  },
  {
   "cell_type": "markdown",
   "metadata": {},
   "source": [
    "Расстояние до центра"
   ]
  },
  {
   "cell_type": "code",
   "execution_count": 238,
   "metadata": {},
   "outputs": [],
   "source": [
    "for i in ros.index:\n",
    "    point = (train.lon[i], train.lat[i]) \n",
    "    center = (39.7114196, 47.2213858)\n",
    "    train.loc[i, 'dist_center'] = distance.geodesic(point, center).km"
   ]
  },
  {
   "cell_type": "markdown",
   "metadata": {},
   "source": [
    "Расстояние до близжайшего салона"
   ]
  },
  {
   "cell_type": "code",
   "execution_count": 239,
   "metadata": {},
   "outputs": [],
   "source": [
    "for i in ros.index:\n",
    "    point = (train.lon[i], train.lat[i])\n",
    "    dist = 500\n",
    "    for j in ros.index:\n",
    "        if j != i:\n",
    "            salon = (train.lon[j], train.lat[j])\n",
    "            if distance.geodesic(point, salon).km < dist:\n",
    "                dist = distance.geodesic(point, salon).km\n",
    "    train.loc[i, 'dist_salon'] = dist"
   ]
  },
  {
   "cell_type": "markdown",
   "metadata": {},
   "source": [
    "#### Самара"
   ]
  },
  {
   "cell_type": "markdown",
   "metadata": {},
   "source": [
    "Признак количество кафе в радиусе 1 км"
   ]
  },
  {
   "cell_type": "code",
   "execution_count": 243,
   "metadata": {},
   "outputs": [],
   "source": [
    "sam = train[train.city == 'Самара']\n",
    "df_sam_caf = gpd.GeoDataFrame(sam_caf['elements'])\n",
    "for i in sam.index:\n",
    "    point = Point(train.lat[i], train.lon[i]).buffer(0.01) # я выбрал простой путь, 0.01 градусов на 1 км\n",
    "    n = 0\n",
    "    for j in df_sam_caf.index:\n",
    "        if point.contains(Point(df_sam_caf.lat[j], df_sam_caf.lon[j])):\n",
    "            n += 1\n",
    "    train.loc[i, 'cafes'] = n"
   ]
  },
  {
   "cell_type": "markdown",
   "metadata": {},
   "source": [
    "Количество гостиниц в радиусе 1 км"
   ]
  },
  {
   "cell_type": "code",
   "execution_count": 244,
   "metadata": {},
   "outputs": [],
   "source": [
    "df_sam_hot = gpd.GeoDataFrame(sam_hot['elements'])\n",
    "df_sam_att = gpd.GeoDataFrame(sam_att['elements'])\n",
    "df_sam_mal = gpd.GeoDataFrame(sam_mal['elements'])\n",
    "for i in sam.index:\n",
    "    point = Point(train.lat[i], train.lon[i]).buffer(0.01) # я выбрал простой путь, 0.01 градусов на 1 км\n",
    "    n = 0\n",
    "    for j in df_sam_hot.index:\n",
    "        if point.contains(Point(df_sam_hot.lat[j], df_sam_hot.lon[j])):\n",
    "            n += 1\n",
    "    train.loc[i, 'hotels'] = n"
   ]
  },
  {
   "cell_type": "markdown",
   "metadata": {},
   "source": [
    "Количество достопримечательностей в радиусе 1 км"
   ]
  },
  {
   "cell_type": "code",
   "execution_count": 245,
   "metadata": {},
   "outputs": [],
   "source": [
    "for i in sam.index:\n",
    "    point = Point(train.lat[i], train.lon[i]).buffer(0.01) # я выбрал простой путь, 0.01 градусов на 1 км\n",
    "    n = 0\n",
    "    for j in df_sam_att.index:\n",
    "        if point.contains(Point(df_sam_att.lat[j], df_sam_att.lon[j])):\n",
    "            n += 1\n",
    "    train.loc[i, 'attractions'] = n"
   ]
  },
  {
   "cell_type": "markdown",
   "metadata": {},
   "source": [
    "Количество торговых центров в радиусе 1 км"
   ]
  },
  {
   "cell_type": "code",
   "execution_count": 246,
   "metadata": {},
   "outputs": [],
   "source": [
    "for i in sam.index:\n",
    "    point = Point(train.lat[i], train.lon[i]).buffer(0.01) # я выбрал простой путь, 0.01 градусов на 1 км\n",
    "    n = 0\n",
    "    for j in df_sam_mal.index:\n",
    "        if point.contains(Point(df_sam_mal.lat[j], df_sam_mal.lon[j])):\n",
    "            n += 1\n",
    "    train.loc[i, 'malls'] = n"
   ]
  },
  {
   "cell_type": "markdown",
   "metadata": {},
   "source": [
    "Количество станций в радиусе 1 км"
   ]
  },
  {
   "cell_type": "code",
   "execution_count": 249,
   "metadata": {},
   "outputs": [],
   "source": [
    "df_sam_sta = gpd.GeoDataFrame(sam_sta['elements'])\n",
    "for i in sam.index:\n",
    "    point = Point(train.lat[i], train.lon[i]).buffer(0.01) # я выбрал простой путь, 0.01 градусов на 1 км\n",
    "    n = 0\n",
    "    for j in df_sam_sta.index:\n",
    "        if point.contains(Point(df_sam_sta.lat[j], df_sam_sta.lon[j])):\n",
    "            n += 1\n",
    "    train.loc[i, 'stations'] = n"
   ]
  },
  {
   "cell_type": "markdown",
   "metadata": {},
   "source": [
    "Расстояние до близжайшей станции"
   ]
  },
  {
   "cell_type": "code",
   "execution_count": 250,
   "metadata": {},
   "outputs": [],
   "source": [
    "for i in sam.index:\n",
    "    point = (train.lon[i], train.lat[i])\n",
    "    dist = 500\n",
    "    for j in df_sam_sta.index:\n",
    "        station = (df_sam_sta.lon[j], df_sam_sta.lat[j])\n",
    "        if distance.geodesic(point, station).km < dist:\n",
    "            dist = distance.geodesic(point, station).km\n",
    "    train.loc[i, 'min_dist_stat'] = dist"
   ]
  },
  {
   "cell_type": "markdown",
   "metadata": {},
   "source": [
    "Расстояние до центра"
   ]
  },
  {
   "cell_type": "code",
   "execution_count": 251,
   "metadata": {},
   "outputs": [],
   "source": [
    "for i in sam.index:\n",
    "    point = (train.lon[i], train.lat[i])\n",
    "    center = (50.113987, 53.198627)\n",
    "    train.loc[i, 'dist_center'] = distance.geodesic(point, center).km"
   ]
  },
  {
   "cell_type": "markdown",
   "metadata": {},
   "source": [
    "Расстояние до близжайшего салона"
   ]
  },
  {
   "cell_type": "code",
   "execution_count": 252,
   "metadata": {},
   "outputs": [],
   "source": [
    "for i in sam.index:\n",
    "    point = (train.lon[i], train.lat[i])\n",
    "    dist = 500\n",
    "    for j in sam.index:\n",
    "        if j != i:\n",
    "            salon = (train.lon[j], train.lat[j])\n",
    "            if distance.geodesic(point, salon).km < dist:\n",
    "                dist = distance.geodesic(point, salon).km\n",
    "    train.loc[i, 'dist_salon'] = dist"
   ]
  },
  {
   "cell_type": "markdown",
   "metadata": {},
   "source": [
    "#### Новосибирск"
   ]
  },
  {
   "cell_type": "markdown",
   "metadata": {},
   "source": [
    "Признак количество кафе в радиусе 1 км"
   ]
  },
  {
   "cell_type": "code",
   "execution_count": 255,
   "metadata": {},
   "outputs": [],
   "source": [
    "nvs = train[train.city == 'Новосибирск']\n",
    "df_nvs_caf = gpd.GeoDataFrame(nvs_caf['elements'])\n",
    "for i in nvs.index:\n",
    "    point = Point(train.lat[i], train.lon[i]).buffer(0.01) # я выбрал простой путь, 0.01 градусов на 1 км\n",
    "    n = 0\n",
    "    for j in df_nvs_caf.index:\n",
    "        if point.contains(Point(df_nvs_caf.lat[j], df_nvs_caf.lon[j])):\n",
    "            n += 1\n",
    "    train.loc[i, 'cafes'] = n"
   ]
  },
  {
   "cell_type": "markdown",
   "metadata": {},
   "source": [
    "Количество гостиниц в радиусе 1 км"
   ]
  },
  {
   "cell_type": "code",
   "execution_count": 256,
   "metadata": {},
   "outputs": [],
   "source": [
    "df_nvs_hot = gpd.GeoDataFrame(nvs_hot['elements'])\n",
    "df_nvs_att = gpd.GeoDataFrame(nvs_att['elements'])\n",
    "df_nvs_mal = gpd.GeoDataFrame(nvs_mal['elements'])\n",
    "for i in nvs.index:\n",
    "    point = Point(train.lat[i], train.lon[i]).buffer(0.01) # я выбрал простой путь, 0.01 градусов на 1 км\n",
    "    n = 0\n",
    "    for j in df_nvs_hot.index:\n",
    "        if point.contains(Point(df_nvs_hot.lat[j], df_nvs_hot.lon[j])):\n",
    "            n += 1\n",
    "    train.loc[i, 'hotels'] = n"
   ]
  },
  {
   "cell_type": "markdown",
   "metadata": {},
   "source": [
    "Количество достопримечательностей в радиусе 1 км"
   ]
  },
  {
   "cell_type": "code",
   "execution_count": 257,
   "metadata": {},
   "outputs": [],
   "source": [
    "for i in nvs.index:\n",
    "    point = Point(train.lat[i], train.lon[i]).buffer(0.01) # я выбрал простой путь, 0.01 градусов на 1 км\n",
    "    n = 0\n",
    "    for j in df_nvs_att.index:\n",
    "        if point.contains(Point(df_nvs_att.lat[j], df_nvs_att.lon[j])):\n",
    "            n += 1\n",
    "    train.loc[i, 'attractions'] = n"
   ]
  },
  {
   "cell_type": "markdown",
   "metadata": {},
   "source": [
    "Количество торговых центров в радиусе 1 км"
   ]
  },
  {
   "cell_type": "code",
   "execution_count": 258,
   "metadata": {},
   "outputs": [],
   "source": [
    "for i in nvs.index:\n",
    "    point = Point(train.lat[i], train.lon[i]).buffer(0.01) # я выбрал простой путь, 0.01 градусов на 1 км\n",
    "    n = 0\n",
    "    for j in df_nvs_mal.index:\n",
    "        if point.contains(Point(df_nvs_mal.lat[j], df_nvs_mal.lon[j])):\n",
    "            n += 1\n",
    "    train.loc[i, 'malls'] = n"
   ]
  },
  {
   "cell_type": "markdown",
   "metadata": {},
   "source": [
    "Количество станций в радиусе 1 км"
   ]
  },
  {
   "cell_type": "code",
   "execution_count": 259,
   "metadata": {},
   "outputs": [],
   "source": [
    "df_nvs_sta = gpd.GeoDataFrame(nvs_sta['elements'])\n",
    "for i in nvs.index:\n",
    "    point = Point(train.lat[i], train.lon[i]).buffer(0.01) # я выбрал простой путь, 0.01 градусов на 1 км\n",
    "    n = 0\n",
    "    for j in df_nvs_sta.index:\n",
    "        if point.contains(Point(df_nvs_sta.lat[j], df_nvs_sta.lon[j])):\n",
    "            n += 1\n",
    "    train.loc[i, 'stations'] = n"
   ]
  },
  {
   "cell_type": "markdown",
   "metadata": {},
   "source": [
    "Расстояние до близжайшей станции"
   ]
  },
  {
   "cell_type": "code",
   "execution_count": 260,
   "metadata": {},
   "outputs": [],
   "source": [
    "for i in nvs.index:\n",
    "    point = (train.lon[i], train.lat[i])\n",
    "    dist = 500\n",
    "    for j in df_nvs_sta.index:\n",
    "        station = (df_nvs_sta.lon[j], df_nvs_sta.lat[j])\n",
    "        if distance.geodesic(point, station).km < dist:\n",
    "            dist = distance.geodesic(point, station).km\n",
    "    train.loc[i, 'min_dist_stat'] = dist"
   ]
  },
  {
   "cell_type": "markdown",
   "metadata": {},
   "source": [
    "Расстояние до центра"
   ]
  },
  {
   "cell_type": "code",
   "execution_count": 261,
   "metadata": {},
   "outputs": [],
   "source": [
    "for i in nvs.index:\n",
    "    point = (train.lon[i], train.lat[i])\n",
    "    center = (82.9234509, 55.0282171)\n",
    "    train.loc[i, 'dist_center'] = distance.geodesic(point, center).km"
   ]
  },
  {
   "cell_type": "markdown",
   "metadata": {},
   "source": [
    "Расстояние до близжайшего салона"
   ]
  },
  {
   "cell_type": "code",
   "execution_count": 262,
   "metadata": {},
   "outputs": [],
   "source": [
    "for i in nvs.index:\n",
    "    point = (train.lon[i], train.lat[i])\n",
    "    dist = 500\n",
    "    for j in nvs.index:\n",
    "        if j != i:\n",
    "            salon = (train.lon[j], train.lat[j])\n",
    "            if distance.geodesic(point, salon).km < dist:\n",
    "                dist = distance.geodesic(point, salon).km\n",
    "    train.loc[i, 'dist_salon'] = dist"
   ]
  },
  {
   "cell_type": "markdown",
   "metadata": {},
   "source": [
    "#### Казань"
   ]
  },
  {
   "cell_type": "markdown",
   "metadata": {},
   "source": [
    "Признак количество кафе в радиусе 1 км"
   ]
  },
  {
   "cell_type": "code",
   "execution_count": 265,
   "metadata": {},
   "outputs": [],
   "source": [
    "kaz = train[train.city == 'Казань']\n",
    "df_kaz_caf = gpd.GeoDataFrame(kaz_caf['elements'])\n",
    "for i in kaz.index:\n",
    "    point = Point(train.lat[i], train.lon[i]).buffer(0.01) # я выбрал простой путь, 0.01 градусов на 1 км\n",
    "    n = 0\n",
    "    for j in df_kaz_caf.index:\n",
    "        if point.contains(Point(df_kaz_caf.lat[j], df_kaz_caf.lon[j])):\n",
    "            n += 1\n",
    "    train.loc[i, 'cafes'] = n"
   ]
  },
  {
   "cell_type": "markdown",
   "metadata": {},
   "source": [
    "Количество гостиниц в радиусе 1 км"
   ]
  },
  {
   "cell_type": "code",
   "execution_count": 266,
   "metadata": {},
   "outputs": [],
   "source": [
    "df_kaz_hot = gpd.GeoDataFrame(kaz_hot['elements'])\n",
    "df_kaz_att = gpd.GeoDataFrame(kaz_att['elements'])\n",
    "df_kaz_mal = gpd.GeoDataFrame(kaz_mal['elements'])\n",
    "for i in kaz.index:\n",
    "    point = Point(train.lat[i], train.lon[i]).buffer(0.01) # я выбрал простой путь, 0.01 градусов на 1 км\n",
    "    n = 0\n",
    "    for j in df_kaz_hot.index:\n",
    "        if point.contains(Point(df_kaz_hot.lat[j], df_kaz_hot.lon[j])):\n",
    "            n += 1\n",
    "    train.loc[i, 'hotels'] = n"
   ]
  },
  {
   "cell_type": "markdown",
   "metadata": {},
   "source": [
    "Количество достопримечательностей в радиусе 1 км"
   ]
  },
  {
   "cell_type": "code",
   "execution_count": 267,
   "metadata": {},
   "outputs": [],
   "source": [
    "for i in kaz.index:\n",
    "    point = Point(train.lat[i], train.lon[i]).buffer(0.01) # я выбрал простой путь, 0.01 градусов на 1 км\n",
    "    n = 0\n",
    "    for j in df_kaz_att.index:\n",
    "        if point.contains(Point(df_kaz_att.lat[j], df_kaz_att.lon[j])):\n",
    "            n += 1\n",
    "    train.loc[i, 'attractions'] = n"
   ]
  },
  {
   "cell_type": "markdown",
   "metadata": {},
   "source": [
    "Количество торговых центров в радиусе 1 км"
   ]
  },
  {
   "cell_type": "code",
   "execution_count": 268,
   "metadata": {},
   "outputs": [],
   "source": [
    "for i in kaz.index:\n",
    "    point = Point(train.lat[i], train.lon[i]).buffer(0.01) # я выбрал простой путь, 0.01 градусов на 1 км\n",
    "    n = 0\n",
    "    for j in df_kaz_mal.index:\n",
    "        if point.contains(Point(df_kaz_mal.lat[j], df_kaz_mal.lon[j])):\n",
    "            n += 1\n",
    "    train.loc[i, 'malls'] = n"
   ]
  },
  {
   "cell_type": "markdown",
   "metadata": {},
   "source": [
    "Количество станций в радиусе 1 км"
   ]
  },
  {
   "cell_type": "code",
   "execution_count": 269,
   "metadata": {},
   "outputs": [],
   "source": [
    "df_kaz_sta = gpd.GeoDataFrame(kaz_sta['elements'])\n",
    "for i in kaz.index:\n",
    "    point = Point(train.lat[i], train.lon[i]).buffer(0.01) # я выбрал простой путь, 0.01 градусов на 1 км\n",
    "    n = 0\n",
    "    for j in df_kaz_sta.index:\n",
    "        if point.contains(Point(df_kaz_sta.lat[j], df_kaz_sta.lon[j])):\n",
    "            n += 1\n",
    "    train.loc[i, 'stations'] = n"
   ]
  },
  {
   "cell_type": "markdown",
   "metadata": {},
   "source": [
    "Расстояние до близжайшей станции"
   ]
  },
  {
   "cell_type": "code",
   "execution_count": 270,
   "metadata": {},
   "outputs": [],
   "source": [
    "for i in kaz.index:\n",
    "    point = (train.lon[i], train.lat[i])\n",
    "    dist = 500\n",
    "    for j in df_kaz_sta.index:\n",
    "        station = (df_kaz_sta.lon[j], df_kaz_sta.lat[j])\n",
    "        if distance.geodesic(point, station).km < dist:\n",
    "            dist = distance.geodesic(point, station).km\n",
    "    train.loc[i, 'min_dist_stat'] = dist"
   ]
  },
  {
   "cell_type": "markdown",
   "metadata": {},
   "source": [
    "Расстояние до центра"
   ]
  },
  {
   "cell_type": "code",
   "execution_count": 271,
   "metadata": {},
   "outputs": [],
   "source": [
    "for i in kaz.index:\n",
    "    point = (train.lon[i], train.lat[i])\n",
    "    center = (49.1242266, 55.7823547)\n",
    "    train.loc[i, 'dist_center'] = distance.geodesic(point, center).km"
   ]
  },
  {
   "cell_type": "markdown",
   "metadata": {},
   "source": [
    "Расстояние до близжайшего салона"
   ]
  },
  {
   "cell_type": "code",
   "execution_count": 272,
   "metadata": {},
   "outputs": [],
   "source": [
    "for i in kaz.index:\n",
    "    point = (train.lon[i], train.lat[i])\n",
    "    dist = 500\n",
    "    for j in kaz.index:\n",
    "        if j != i:\n",
    "            salon = (train.lon[j], train.lat[j])\n",
    "            if distance.geodesic(point, salon).km < dist:\n",
    "                dist = distance.geodesic(point, salon).km\n",
    "    train.loc[i, 'dist_salon'] = dist"
   ]
  },
  {
   "cell_type": "markdown",
   "metadata": {},
   "source": [
    "#### Екатеринбург"
   ]
  },
  {
   "cell_type": "markdown",
   "metadata": {},
   "source": [
    "Признак количество кафе в радиусе 1 км"
   ]
  },
  {
   "cell_type": "code",
   "execution_count": 277,
   "metadata": {},
   "outputs": [],
   "source": [
    "ek = train[train.city == 'Екатеринбург']\n",
    "df_ek_caf = gpd.GeoDataFrame(ek_caf['elements'])\n",
    "for i in ek.index:\n",
    "    point = Point(train.lat[i], train.lon[i]).buffer(0.01) # я выбрал простой путь, 0.01 градусов на 1 км\n",
    "    n = 0\n",
    "    for j in df_ek_caf.index:\n",
    "        if point.contains(Point(df_ek_caf.lat[j], df_ek_caf.lon[j])):\n",
    "            n += 1\n",
    "    train.loc[i, 'cafes'] = n"
   ]
  },
  {
   "cell_type": "markdown",
   "metadata": {},
   "source": [
    "Количество гостиниц в радиусе 1 км"
   ]
  },
  {
   "cell_type": "code",
   "execution_count": 278,
   "metadata": {},
   "outputs": [],
   "source": [
    "df_ek_hot = gpd.GeoDataFrame(ek_hot['elements'])\n",
    "df_ek_att = gpd.GeoDataFrame(ek_att['elements'])\n",
    "df_ek_mal = gpd.GeoDataFrame(ek_mal['elements'])\n",
    "for i in ek.index:\n",
    "    point = Point(train.lat[i], train.lon[i]).buffer(0.01) # я выбрал простой путь, 0.01 градусов на 1 км\n",
    "    n = 0\n",
    "    for j in df_ek_hot.index:\n",
    "        if point.contains(Point(df_ek_hot.lat[j], df_ek_hot.lon[j])):\n",
    "            n += 1\n",
    "    train.loc[i, 'hotels'] = n"
   ]
  },
  {
   "cell_type": "markdown",
   "metadata": {},
   "source": [
    "Количество достопримечательностей в радиусе 1 км"
   ]
  },
  {
   "cell_type": "code",
   "execution_count": 279,
   "metadata": {},
   "outputs": [],
   "source": [
    "for i in ek.index:\n",
    "    point = Point(train.lat[i], train.lon[i]).buffer(0.01) # я выбрал простой путь, 0.01 градусов на 1 км\n",
    "    n = 0\n",
    "    for j in df_ek_att.index:\n",
    "        if point.contains(Point(df_ek_att.lat[j], df_ek_att.lon[j])):\n",
    "            n += 1\n",
    "    train.loc[i, 'attractions'] = n"
   ]
  },
  {
   "cell_type": "markdown",
   "metadata": {},
   "source": [
    "Количество торговых центров в радиусе 1 км"
   ]
  },
  {
   "cell_type": "code",
   "execution_count": 280,
   "metadata": {},
   "outputs": [],
   "source": [
    "for i in ek.index:\n",
    "    point = Point(train.lat[i], train.lon[i]).buffer(0.01) # я выбрал простой путь, 0.01 градусов на 1 км\n",
    "    n = 0\n",
    "    for j in df_ek_mal.index:\n",
    "        if point.contains(Point(df_ek_mal.lat[j], df_ek_mal.lon[j])):\n",
    "            n += 1\n",
    "    train.loc[i, 'malls'] = n"
   ]
  },
  {
   "cell_type": "markdown",
   "metadata": {},
   "source": [
    "Количество станций в радиусе 1 км"
   ]
  },
  {
   "cell_type": "code",
   "execution_count": 281,
   "metadata": {},
   "outputs": [],
   "source": [
    "df_ek_sta = gpd.GeoDataFrame(ek_sta['elements'])\n",
    "for i in ek.index:\n",
    "    point = Point(train.lat[i], train.lon[i]).buffer(0.01) # я выбрал простой путь, 0.01 градусов на 1 км\n",
    "    n = 0\n",
    "    for j in df_ek_sta.index:\n",
    "        if point.contains(Point(df_ek_sta.lat[j], df_ek_sta.lon[j])):\n",
    "            n += 1\n",
    "    train.loc[i, 'stations'] = n"
   ]
  },
  {
   "cell_type": "markdown",
   "metadata": {},
   "source": [
    "Расстояние до близжайшей станции"
   ]
  },
  {
   "cell_type": "code",
   "execution_count": 282,
   "metadata": {},
   "outputs": [],
   "source": [
    "for i in ek.index:\n",
    "    point = (train.lon[i], train.lat[i])\n",
    "    dist = 500\n",
    "    for j in df_ek_sta.index:\n",
    "        station = (df_ek_sta.lon[j], df_ek_sta.lat[j])\n",
    "        if distance.geodesic(point, station).km < dist:\n",
    "            dist = distance.geodesic(point, station).km\n",
    "    train.loc[i, 'min_dist_stat'] = dist"
   ]
  },
  {
   "cell_type": "markdown",
   "metadata": {},
   "source": [
    "Расстояние до центра"
   ]
  },
  {
   "cell_type": "code",
   "execution_count": 283,
   "metadata": {},
   "outputs": [],
   "source": [
    "for i in ek.index:\n",
    "    point = (train.lon[i], train.lat[i])\n",
    "    center = (60.60825, 56.839104)\n",
    "    train.loc[i, 'dist_center'] = distance.geodesic(point, center).km"
   ]
  },
  {
   "cell_type": "markdown",
   "metadata": {},
   "source": [
    "Расстояние до близжайшего салона"
   ]
  },
  {
   "cell_type": "code",
   "execution_count": 284,
   "metadata": {},
   "outputs": [],
   "source": [
    "for i in ek.index:\n",
    "    point = (train.lon[i], train.lat[i])\n",
    "    dist = 500\n",
    "    for j in ek.index:\n",
    "        if j != i:\n",
    "            salon = (train.lon[j], train.lat[j])\n",
    "            if distance.geodesic(point, salon).km < dist:\n",
    "                dist = distance.geodesic(point, salon).km\n",
    "    train.loc[i, 'dist_salon'] = dist"
   ]
  },
  {
   "cell_type": "markdown",
   "metadata": {},
   "source": [
    "#### Новгород"
   ]
  },
  {
   "cell_type": "markdown",
   "metadata": {},
   "source": [
    "Признак количество кафе в радиусе 1 км"
   ]
  },
  {
   "cell_type": "code",
   "execution_count": 323,
   "metadata": {},
   "outputs": [],
   "source": [
    "nvg = train[train.city == 'Новгород']\n",
    "df_nvg_caf = gpd.GeoDataFrame(nvg_caf['elements'])\n",
    "for i in nvg.index:\n",
    "    point = Point(train.lat[i], train.lon[i]).buffer(0.01) # я выбрал простой путь, 0.01 градусов на 1 км\n",
    "    n = 0\n",
    "    for j in df_nvg_caf.index:\n",
    "        if point.contains(Point(df_nvg_caf.lat[j], df_nvg_caf.lon[j])):\n",
    "            n += 1\n",
    "    train.loc[i, 'cafes'] = n"
   ]
  },
  {
   "cell_type": "markdown",
   "metadata": {},
   "source": [
    "Количество гостиниц в радиусе 1 км"
   ]
  },
  {
   "cell_type": "code",
   "execution_count": 324,
   "metadata": {},
   "outputs": [],
   "source": [
    "df_nvg_hot = gpd.GeoDataFrame(nvg_hot['elements'])\n",
    "df_nvg_att = gpd.GeoDataFrame(nvg_att['elements'])\n",
    "df_nvg_mal = gpd.GeoDataFrame(nvg_mal['elements'])\n",
    "for i in nvg.index:\n",
    "    point = Point(train.lat[i], train.lon[i]).buffer(0.01) # я выбрал простой путь, 0.01 градусов на 1 км\n",
    "    n = 0\n",
    "    for j in df_nvg_hot.index:\n",
    "        if point.contains(Point(df_nvg_hot.lat[j], df_nvg_hot.lon[j])):\n",
    "            n += 1\n",
    "    train.loc[i, 'hotels'] = n"
   ]
  },
  {
   "cell_type": "markdown",
   "metadata": {},
   "source": [
    "Количество достопримечательностей в радиусе 1 км"
   ]
  },
  {
   "cell_type": "code",
   "execution_count": 325,
   "metadata": {},
   "outputs": [],
   "source": [
    "for i in nvg.index:\n",
    "    point = Point(train.lat[i], train.lon[i]).buffer(0.01) # я выбрал простой путь, 0.01 градусов на 1 км\n",
    "    n = 0\n",
    "    for j in df_nvg_att.index:\n",
    "        if point.contains(Point(df_nvg_att.lat[j], df_nvg_att.lon[j])):\n",
    "            n += 1\n",
    "    train.loc[i, 'attractions'] = n"
   ]
  },
  {
   "cell_type": "markdown",
   "metadata": {},
   "source": [
    "Количество торговых центров в радиусе 1 км"
   ]
  },
  {
   "cell_type": "code",
   "execution_count": 326,
   "metadata": {},
   "outputs": [],
   "source": [
    "for i in nvg.index:\n",
    "    point = Point(train.lat[i], train.lon[i]).buffer(0.01) # я выбрал простой путь, 0.01 градусов на 1 км\n",
    "    n = 0\n",
    "    for j in df_nvg_mal.index:\n",
    "        if point.contains(Point(df_nvg_mal.lat[j], df_nvg_mal.lon[j])):\n",
    "            n += 1\n",
    "    train.loc[i, 'malls'] = n"
   ]
  },
  {
   "cell_type": "markdown",
   "metadata": {},
   "source": [
    "Количество станций в радиусе 1 км"
   ]
  },
  {
   "cell_type": "code",
   "execution_count": 327,
   "metadata": {},
   "outputs": [],
   "source": [
    "df_nvg_sta = gpd.GeoDataFrame(nvg_sta['elements'])\n",
    "for i in nvg.index:\n",
    "    point = Point(train.lat[i], train.lon[i]).buffer(0.01) # я выбрал простой путь, 0.01 градусов на 1 км\n",
    "    n = 0\n",
    "    for j in df_nvg_sta.index:\n",
    "        if point.contains(Point(df_nvg_sta.lat[j], df_nvg_sta.lon[j])):\n",
    "            n += 1\n",
    "    train.loc[i, 'stations'] = n"
   ]
  },
  {
   "cell_type": "markdown",
   "metadata": {},
   "source": [
    "Расстояние до близжайшей станции"
   ]
  },
  {
   "cell_type": "code",
   "execution_count": 328,
   "metadata": {},
   "outputs": [],
   "source": [
    "for i in nvg.index:\n",
    "    point = (train.lon[i], train.lat[i])\n",
    "    dist = 500\n",
    "    for j in df_nvg_sta.index:\n",
    "        station = (df_nvg_sta.lon[j], df_nvg_sta.lat[j])\n",
    "        if distance.geodesic(point, station).km < dist:\n",
    "            dist = distance.geodesic(point, station).km\n",
    "    train.loc[i, 'min_dist_stat'] = dist"
   ]
  },
  {
   "cell_type": "markdown",
   "metadata": {},
   "source": [
    "Расстояние до центра"
   ]
  },
  {
   "cell_type": "code",
   "execution_count": 329,
   "metadata": {},
   "outputs": [],
   "source": [
    "for i in nvg.index:\n",
    "    point = (train.lon[i], train.lat[i])\n",
    "    center = (44.003506, 56.328571)\n",
    "    train.loc[i, 'dist_center'] = distance.geodesic(point, center).km"
   ]
  },
  {
   "cell_type": "markdown",
   "metadata": {},
   "source": [
    "Расстояние до близжайшего салона"
   ]
  },
  {
   "cell_type": "code",
   "execution_count": 330,
   "metadata": {},
   "outputs": [],
   "source": [
    "for i in nvg.index:\n",
    "    point = (train.lon[i], train.lat[i])\n",
    "    dist = 500\n",
    "    for j in nvg.index:\n",
    "        if j != i:\n",
    "            salon = (train.lon[j], train.lat[j])\n",
    "            if distance.geodesic(point, salon).km < dist:\n",
    "                dist = distance.geodesic(point, salon).km\n",
    "    train.loc[i, 'dist_salon'] = dist"
   ]
  },
  {
   "cell_type": "markdown",
   "metadata": {},
   "source": [
    "#### Красноярск"
   ]
  },
  {
   "cell_type": "markdown",
   "metadata": {},
   "source": [
    "Признак количество кафе в радиусе 1 км"
   ]
  },
  {
   "cell_type": "code",
   "execution_count": 333,
   "metadata": {},
   "outputs": [],
   "source": [
    "kras = train[train.city == 'Красноярск']\n",
    "df_kras_caf = gpd.GeoDataFrame(kras_caf['elements'])\n",
    "for i in kras.index:\n",
    "    point = Point(train.lat[i], train.lon[i]).buffer(0.01) # я выбрал простой путь, 0.01 градусов на 1 км\n",
    "    n = 0\n",
    "    for j in df_kras_caf.index:\n",
    "        if point.contains(Point(df_kras_caf.lat[j], df_kras_caf.lon[j])):\n",
    "            n += 1\n",
    "    train.loc[i, 'cafes'] = n"
   ]
  },
  {
   "cell_type": "markdown",
   "metadata": {},
   "source": [
    "Количество гостиниц в радиусе 1 км"
   ]
  },
  {
   "cell_type": "code",
   "execution_count": 334,
   "metadata": {},
   "outputs": [],
   "source": [
    "df_kras_hot = gpd.GeoDataFrame(kras_hot['elements'])\n",
    "df_kras_att = gpd.GeoDataFrame(kras_att['elements'])\n",
    "df_kras_mal = gpd.GeoDataFrame(kras_mal['elements'])\n",
    "for i in kras.index:\n",
    "    point = Point(train.lat[i], train.lon[i]).buffer(0.01) # я выбрал простой путь, 0.01 градусов на 1 км\n",
    "    n = 0\n",
    "    for j in df_kras_hot.index:\n",
    "        if point.contains(Point(df_kras_hot.lat[j], df_kras_hot.lon[j])):\n",
    "            n += 1\n",
    "    train.loc[i, 'hotels'] = n"
   ]
  },
  {
   "cell_type": "markdown",
   "metadata": {},
   "source": [
    "Количество достопримечательностей в радиусе 1 км"
   ]
  },
  {
   "cell_type": "code",
   "execution_count": 335,
   "metadata": {},
   "outputs": [],
   "source": [
    "for i in kras.index:\n",
    "    point = Point(train.lat[i], train.lon[i]).buffer(0.01) # я выбрал простой путь, 0.01 градусов на 1 км\n",
    "    n = 0\n",
    "    for j in df_kras_att.index:\n",
    "        if point.contains(Point(df_kras_att.lat[j], df_kras_att.lon[j])):\n",
    "            n += 1\n",
    "    train.loc[i, 'attractions'] = n"
   ]
  },
  {
   "cell_type": "markdown",
   "metadata": {},
   "source": [
    "Количество торговых центров в радиусе 1 км"
   ]
  },
  {
   "cell_type": "code",
   "execution_count": 336,
   "metadata": {},
   "outputs": [],
   "source": [
    "for i in kras.index:\n",
    "    point = Point(train.lat[i], train.lon[i]).buffer(0.01) # я выбрал простой путь, 0.01 градусов на 1 км\n",
    "    n = 0\n",
    "    for j in df_kras_mal.index:\n",
    "        if point.contains(Point(df_kras_mal.lat[j], df_kras_mal.lon[j])):\n",
    "            n += 1\n",
    "    train.loc[i, 'malls'] = n"
   ]
  },
  {
   "cell_type": "markdown",
   "metadata": {},
   "source": [
    "Количество станций в радиусе 1 км"
   ]
  },
  {
   "cell_type": "code",
   "execution_count": 337,
   "metadata": {},
   "outputs": [],
   "source": [
    "df_kras_sta = gpd.GeoDataFrame(kras_sta['elements'])\n",
    "for i in kras.index:\n",
    "    point = Point(train.lat[i], train.lon[i]).buffer(0.01) # я выбрал простой путь, 0.01 градусов на 1 км\n",
    "    n = 0\n",
    "    for j in df_kras_sta.index:\n",
    "        if point.contains(Point(df_kras_sta.lat[j], df_kras_sta.lon[j])):\n",
    "            n += 1\n",
    "    train.loc[i, 'stations'] = n"
   ]
  },
  {
   "cell_type": "markdown",
   "metadata": {},
   "source": [
    "Расстояние до близжайшей станции"
   ]
  },
  {
   "cell_type": "code",
   "execution_count": 341,
   "metadata": {},
   "outputs": [],
   "source": [
    "for i in kras.index:\n",
    "    point = (train.lat[i], train.lon[i])\n",
    "    dist = 500\n",
    "    for j in df_kras_sta.index:\n",
    "        station = (df_kras_sta.lat[j], df_kras_sta.lon[j])\n",
    "        if distance.geodesic(point, station).km < dist:\n",
    "            dist = distance.geodesic(point, station).km\n",
    "    train.loc[i, 'min_dist_stat'] = dist"
   ]
  },
  {
   "cell_type": "markdown",
   "metadata": {},
   "source": [
    "Расстояние до центра"
   ]
  },
  {
   "cell_type": "code",
   "execution_count": 342,
   "metadata": {},
   "outputs": [],
   "source": [
    "for i in kras.index:\n",
    "    point = (train.lat[i], train.lon[i])\n",
    "    center = (56.0090968, 92.8725147)\n",
    "    train.loc[i, 'dist_center'] = distance.geodesic(point, center).km"
   ]
  },
  {
   "cell_type": "markdown",
   "metadata": {},
   "source": [
    "Расстояние до близжайшего салона"
   ]
  },
  {
   "cell_type": "code",
   "execution_count": 343,
   "metadata": {},
   "outputs": [],
   "source": [
    "for i in kras.index:\n",
    "    point = (train.lat[i], train.lon[i])\n",
    "    dist = 500\n",
    "    for j in kras.index:\n",
    "        if j != i:\n",
    "            salon = (train.lat[j], train.lon[j])\n",
    "            if distance.geodesic(point, salon).km < dist:\n",
    "                dist = distance.geodesic(point, salon).km\n",
    "    train.loc[i, 'dist_salon'] = dist"
   ]
  },
  {
   "cell_type": "markdown",
   "metadata": {},
   "source": [
    "#### Уфа"
   ]
  },
  {
   "cell_type": "markdown",
   "metadata": {},
   "source": [
    "Признак количество кафе в радиусе 1 км"
   ]
  },
  {
   "cell_type": "code",
   "execution_count": 345,
   "metadata": {},
   "outputs": [],
   "source": [
    "ufa = train[train.city == 'Уфа']\n",
    "df_ufa_caf = gpd.GeoDataFrame(ufa_caf['elements'])\n",
    "for i in ufa.index:\n",
    "    point = Point(train.lat[i], train.lon[i]).buffer(0.01) # я выбрал простой путь, 0.01 градусов на 1 км\n",
    "    n = 0\n",
    "    for j in df_ufa_caf.index:\n",
    "        if point.contains(Point(df_ufa_caf.lat[j], df_ufa_caf.lon[j])):\n",
    "            n += 1\n",
    "    train.loc[i, 'cafes'] = n"
   ]
  },
  {
   "cell_type": "markdown",
   "metadata": {},
   "source": [
    "Количество гостиниц в радиусе 1 км"
   ]
  },
  {
   "cell_type": "code",
   "execution_count": 346,
   "metadata": {},
   "outputs": [],
   "source": [
    "df_ufa_hot = gpd.GeoDataFrame(ufa_hot['elements'])\n",
    "df_ufa_att = gpd.GeoDataFrame(ufa_att['elements'])\n",
    "df_ufa_mal = gpd.GeoDataFrame(ufa_mal['elements'])\n",
    "for i in ufa.index:\n",
    "    point = Point(train.lat[i], train.lon[i]).buffer(0.01) # я выбрал простой путь, 0.01 градусов на 1 км\n",
    "    n = 0\n",
    "    for j in df_ufa_hot.index:\n",
    "        if point.contains(Point(df_ufa_hot.lat[j], df_ufa_hot.lon[j])):\n",
    "            n += 1\n",
    "    train.loc[i, 'hotels'] = n"
   ]
  },
  {
   "cell_type": "markdown",
   "metadata": {},
   "source": [
    "Количество достопримечательностей в радиусе 1 км"
   ]
  },
  {
   "cell_type": "code",
   "execution_count": 347,
   "metadata": {},
   "outputs": [],
   "source": [
    "for i in ufa.index:\n",
    "    point = Point(train.lat[i], train.lon[i]).buffer(0.01) # я выбрал простой путь, 0.01 градусов на 1 км\n",
    "    n = 0\n",
    "    for j in df_ufa_att.index:\n",
    "        if point.contains(Point(df_ufa_att.lat[j], df_ufa_att.lon[j])):\n",
    "            n += 1\n",
    "    train.loc[i, 'attractions'] = n"
   ]
  },
  {
   "cell_type": "markdown",
   "metadata": {},
   "source": [
    "Количество торговых центров в радиусе 1 км"
   ]
  },
  {
   "cell_type": "code",
   "execution_count": 348,
   "metadata": {},
   "outputs": [],
   "source": [
    "for i in ufa.index:\n",
    "    point = Point(train.lat[i], train.lon[i]).buffer(0.01) # я выбрал простой путь, 0.01 градусов на 1 км\n",
    "    n = 0\n",
    "    for j in df_ufa_mal.index:\n",
    "        if point.contains(Point(df_ufa_mal.lat[j], df_ufa_mal.lon[j])):\n",
    "            n += 1\n",
    "    train.loc[i, 'malls'] = n"
   ]
  },
  {
   "cell_type": "markdown",
   "metadata": {},
   "source": [
    "Количество станций в радиусе 1 км"
   ]
  },
  {
   "cell_type": "code",
   "execution_count": 349,
   "metadata": {},
   "outputs": [],
   "source": [
    "df_ufa_sta = gpd.GeoDataFrame(ufa_sta['elements'])\n",
    "for i in ufa.index:\n",
    "    point = Point(train.lat[i], train.lon[i]).buffer(0.01) # я выбрал простой путь, 0.01 градусов на 1 км\n",
    "    n = 0\n",
    "    for j in df_ufa_sta.index:\n",
    "        if point.contains(Point(df_ufa_sta.lat[j], df_ufa_sta.lon[j])):\n",
    "            n += 1\n",
    "    train.loc[i, 'stations'] = n"
   ]
  },
  {
   "cell_type": "markdown",
   "metadata": {},
   "source": [
    "Расстояние до близжайшей станции"
   ]
  },
  {
   "cell_type": "code",
   "execution_count": 350,
   "metadata": {},
   "outputs": [],
   "source": [
    "for i in ufa.index:\n",
    "    point = (train.lat[i], train.lon[i])\n",
    "    dist = 500\n",
    "    for j in df_ufa_sta.index:\n",
    "        station = (df_ufa_sta.lat[j], df_ufa_sta.lon[j])\n",
    "        if distance.geodesic(point, station).km < dist:\n",
    "            dist = distance.geodesic(point, station).km\n",
    "    train.loc[i, 'min_dist_stat'] = dist"
   ]
  },
  {
   "cell_type": "markdown",
   "metadata": {},
   "source": [
    "Расстояние до центра"
   ]
  },
  {
   "cell_type": "code",
   "execution_count": 351,
   "metadata": {},
   "outputs": [],
   "source": [
    "for i in ufa.index:\n",
    "    point = (train.lat[i], train.lon[i])\n",
    "    center = (54.7261409, 55.947499)\n",
    "    train.loc[i, 'dist_center'] = distance.geodesic(point, center).km"
   ]
  },
  {
   "cell_type": "markdown",
   "metadata": {},
   "source": [
    "Расстояние до близжайшего салона"
   ]
  },
  {
   "cell_type": "code",
   "execution_count": 352,
   "metadata": {},
   "outputs": [],
   "source": [
    "for i in ufa.index:\n",
    "    point = (train.lat[i], train.lon[i])\n",
    "    dist = 500\n",
    "    for j in ufa.index:\n",
    "        if j != i:\n",
    "            salon = (train.lat[j], train.lon[j])\n",
    "            if distance.geodesic(point, salon).km < dist:\n",
    "                dist = distance.geodesic(point, salon).km\n",
    "    train.loc[i, 'dist_salon'] = dist"
   ]
  },
  {
   "cell_type": "markdown",
   "metadata": {},
   "source": [
    "Необходимо избавиться от Балашихи, такой объект всего 1, а в тесте он вовсе отсутствует, поэтому существенно на качество не повлияет."
   ]
  },
  {
   "cell_type": "code",
   "execution_count": 354,
   "metadata": {},
   "outputs": [],
   "source": [
    "train = train.dropna()"
   ]
  },
  {
   "cell_type": "code",
   "execution_count": 355,
   "metadata": {},
   "outputs": [
    {
     "data": {
      "text/html": [
       "<div>\n",
       "<style scoped>\n",
       "    .dataframe tbody tr th:only-of-type {\n",
       "        vertical-align: middle;\n",
       "    }\n",
       "\n",
       "    .dataframe tbody tr th {\n",
       "        vertical-align: top;\n",
       "    }\n",
       "\n",
       "    .dataframe thead th {\n",
       "        text-align: right;\n",
       "    }\n",
       "</style>\n",
       "<table border=\"1\" class=\"dataframe\">\n",
       "  <thead>\n",
       "    <tr style=\"text-align: right;\">\n",
       "      <th></th>\n",
       "      <th>point_id</th>\n",
       "      <th>lon</th>\n",
       "      <th>lat</th>\n",
       "      <th>target</th>\n",
       "      <th>city</th>\n",
       "      <th>cafes</th>\n",
       "      <th>hotels</th>\n",
       "      <th>attractions</th>\n",
       "      <th>malls</th>\n",
       "      <th>stations</th>\n",
       "      <th>min_dist_stat</th>\n",
       "      <th>dist_center</th>\n",
       "      <th>dist_salon</th>\n",
       "    </tr>\n",
       "  </thead>\n",
       "  <tbody>\n",
       "    <tr>\n",
       "      <th>0</th>\n",
       "      <td>ommNZCUV</td>\n",
       "      <td>37.590776</td>\n",
       "      <td>55.848630</td>\n",
       "      <td>-0.348157</td>\n",
       "      <td>Москва</td>\n",
       "      <td>1.0</td>\n",
       "      <td>2.0</td>\n",
       "      <td>0.0</td>\n",
       "      <td>0.0</td>\n",
       "      <td>2.0</td>\n",
       "      <td>0.155140</td>\n",
       "      <td>9.163007</td>\n",
       "      <td>0.765778</td>\n",
       "    </tr>\n",
       "    <tr>\n",
       "      <th>1</th>\n",
       "      <td>nMe2LHPb</td>\n",
       "      <td>37.784210</td>\n",
       "      <td>55.750271</td>\n",
       "      <td>1.294206</td>\n",
       "      <td>Москва</td>\n",
       "      <td>9.0</td>\n",
       "      <td>0.0</td>\n",
       "      <td>0.0</td>\n",
       "      <td>0.0</td>\n",
       "      <td>1.0</td>\n",
       "      <td>0.265079</td>\n",
       "      <td>18.503919</td>\n",
       "      <td>0.083209</td>\n",
       "    </tr>\n",
       "    <tr>\n",
       "      <th>2</th>\n",
       "      <td>ZgodVRqB</td>\n",
       "      <td>39.635721</td>\n",
       "      <td>47.213330</td>\n",
       "      <td>-1.039679</td>\n",
       "      <td>Ростов-на-Дону</td>\n",
       "      <td>4.0</td>\n",
       "      <td>1.0</td>\n",
       "      <td>0.0</td>\n",
       "      <td>0.0</td>\n",
       "      <td>0.0</td>\n",
       "      <td>1.970163</td>\n",
       "      <td>8.433064</td>\n",
       "      <td>0.791127</td>\n",
       "    </tr>\n",
       "    <tr>\n",
       "      <th>3</th>\n",
       "      <td>0t2jNYdz</td>\n",
       "      <td>37.704570</td>\n",
       "      <td>55.782020</td>\n",
       "      <td>-1.169339</td>\n",
       "      <td>Москва</td>\n",
       "      <td>26.0</td>\n",
       "      <td>3.0</td>\n",
       "      <td>0.0</td>\n",
       "      <td>0.0</td>\n",
       "      <td>1.0</td>\n",
       "      <td>0.089354</td>\n",
       "      <td>10.058066</td>\n",
       "      <td>0.156413</td>\n",
       "    </tr>\n",
       "    <tr>\n",
       "      <th>4</th>\n",
       "      <td>U27W4QJ7</td>\n",
       "      <td>37.643983</td>\n",
       "      <td>55.730188</td>\n",
       "      <td>-0.088837</td>\n",
       "      <td>Москва</td>\n",
       "      <td>52.0</td>\n",
       "      <td>12.0</td>\n",
       "      <td>1.0</td>\n",
       "      <td>0.0</td>\n",
       "      <td>3.0</td>\n",
       "      <td>0.341539</td>\n",
       "      <td>3.441087</td>\n",
       "      <td>0.966847</td>\n",
       "    </tr>\n",
       "    <tr>\n",
       "      <th>...</th>\n",
       "      <td>...</td>\n",
       "      <td>...</td>\n",
       "      <td>...</td>\n",
       "      <td>...</td>\n",
       "      <td>...</td>\n",
       "      <td>...</td>\n",
       "      <td>...</td>\n",
       "      <td>...</td>\n",
       "      <td>...</td>\n",
       "      <td>...</td>\n",
       "      <td>...</td>\n",
       "      <td>...</td>\n",
       "      <td>...</td>\n",
       "    </tr>\n",
       "    <tr>\n",
       "      <th>420</th>\n",
       "      <td>AA8hN7bJ</td>\n",
       "      <td>37.628765</td>\n",
       "      <td>55.740664</td>\n",
       "      <td>0.213704</td>\n",
       "      <td>Москва</td>\n",
       "      <td>73.0</td>\n",
       "      <td>21.0</td>\n",
       "      <td>3.0</td>\n",
       "      <td>0.0</td>\n",
       "      <td>3.0</td>\n",
       "      <td>0.080903</td>\n",
       "      <td>1.520054</td>\n",
       "      <td>1.106251</td>\n",
       "    </tr>\n",
       "    <tr>\n",
       "      <th>421</th>\n",
       "      <td>uNw6t6xk</td>\n",
       "      <td>37.586825</td>\n",
       "      <td>55.794233</td>\n",
       "      <td>-0.002397</td>\n",
       "      <td>Москва</td>\n",
       "      <td>54.0</td>\n",
       "      <td>1.0</td>\n",
       "      <td>0.0</td>\n",
       "      <td>3.0</td>\n",
       "      <td>3.0</td>\n",
       "      <td>0.171250</td>\n",
       "      <td>5.151452</td>\n",
       "      <td>0.423794</td>\n",
       "    </tr>\n",
       "    <tr>\n",
       "      <th>422</th>\n",
       "      <td>Ap42ei8k</td>\n",
       "      <td>37.678790</td>\n",
       "      <td>55.772910</td>\n",
       "      <td>-0.910019</td>\n",
       "      <td>Москва</td>\n",
       "      <td>56.0</td>\n",
       "      <td>7.0</td>\n",
       "      <td>1.0</td>\n",
       "      <td>0.0</td>\n",
       "      <td>1.0</td>\n",
       "      <td>0.199517</td>\n",
       "      <td>7.086157</td>\n",
       "      <td>0.130759</td>\n",
       "    </tr>\n",
       "    <tr>\n",
       "      <th>423</th>\n",
       "      <td>rn9A8r62</td>\n",
       "      <td>37.752130</td>\n",
       "      <td>55.619640</td>\n",
       "      <td>-0.326547</td>\n",
       "      <td>Москва</td>\n",
       "      <td>3.0</td>\n",
       "      <td>0.0</td>\n",
       "      <td>0.0</td>\n",
       "      <td>0.0</td>\n",
       "      <td>2.0</td>\n",
       "      <td>0.937091</td>\n",
       "      <td>18.879288</td>\n",
       "      <td>1.077707</td>\n",
       "    </tr>\n",
       "    <tr>\n",
       "      <th>424</th>\n",
       "      <td>960M6jye</td>\n",
       "      <td>37.705770</td>\n",
       "      <td>55.782950</td>\n",
       "      <td>-1.234169</td>\n",
       "      <td>Москва</td>\n",
       "      <td>27.0</td>\n",
       "      <td>3.0</td>\n",
       "      <td>0.0</td>\n",
       "      <td>0.0</td>\n",
       "      <td>1.0</td>\n",
       "      <td>0.244176</td>\n",
       "      <td>10.208853</td>\n",
       "      <td>0.156413</td>\n",
       "    </tr>\n",
       "  </tbody>\n",
       "</table>\n",
       "<p>424 rows × 13 columns</p>\n",
       "</div>"
      ],
      "text/plain": [
       "     point_id        lon        lat    target            city  cafes  hotels  \\\n",
       "0    ommNZCUV  37.590776  55.848630 -0.348157          Москва    1.0     2.0   \n",
       "1    nMe2LHPb  37.784210  55.750271  1.294206          Москва    9.0     0.0   \n",
       "2    ZgodVRqB  39.635721  47.213330 -1.039679  Ростов-на-Дону    4.0     1.0   \n",
       "3    0t2jNYdz  37.704570  55.782020 -1.169339          Москва   26.0     3.0   \n",
       "4    U27W4QJ7  37.643983  55.730188 -0.088837          Москва   52.0    12.0   \n",
       "..        ...        ...        ...       ...             ...    ...     ...   \n",
       "420  AA8hN7bJ  37.628765  55.740664  0.213704          Москва   73.0    21.0   \n",
       "421  uNw6t6xk  37.586825  55.794233 -0.002397          Москва   54.0     1.0   \n",
       "422  Ap42ei8k  37.678790  55.772910 -0.910019          Москва   56.0     7.0   \n",
       "423  rn9A8r62  37.752130  55.619640 -0.326547          Москва    3.0     0.0   \n",
       "424  960M6jye  37.705770  55.782950 -1.234169          Москва   27.0     3.0   \n",
       "\n",
       "     attractions  malls  stations  min_dist_stat  dist_center  dist_salon  \n",
       "0            0.0    0.0       2.0       0.155140     9.163007    0.765778  \n",
       "1            0.0    0.0       1.0       0.265079    18.503919    0.083209  \n",
       "2            0.0    0.0       0.0       1.970163     8.433064    0.791127  \n",
       "3            0.0    0.0       1.0       0.089354    10.058066    0.156413  \n",
       "4            1.0    0.0       3.0       0.341539     3.441087    0.966847  \n",
       "..           ...    ...       ...            ...          ...         ...  \n",
       "420          3.0    0.0       3.0       0.080903     1.520054    1.106251  \n",
       "421          0.0    3.0       3.0       0.171250     5.151452    0.423794  \n",
       "422          1.0    0.0       1.0       0.199517     7.086157    0.130759  \n",
       "423          0.0    0.0       2.0       0.937091    18.879288    1.077707  \n",
       "424          0.0    0.0       1.0       0.244176    10.208853    0.156413  \n",
       "\n",
       "[424 rows x 13 columns]"
      ]
     },
     "execution_count": 355,
     "metadata": {},
     "output_type": "execute_result"
    }
   ],
   "source": [
    "train"
   ]
  },
  {
   "cell_type": "markdown",
   "metadata": {},
   "source": [
    "### Необходимо проделать все это для тестового датасета."
   ]
  },
  {
   "cell_type": "markdown",
   "metadata": {},
   "source": [
    "#### Москва"
   ]
  },
  {
   "cell_type": "markdown",
   "metadata": {},
   "source": [
    "Признак количество кафе в радиусе 1 км"
   ]
  },
  {
   "cell_type": "code",
   "execution_count": 359,
   "metadata": {},
   "outputs": [],
   "source": [
    "moscow_ = test[test.city == 'Москва']\n",
    "for i in moscow_.index:\n",
    "    point = Point(test.lat[i], test.lon[i]).buffer(0.01) # я выбрал простой путь, 0.01 градусов на 1 км\n",
    "    n = 0\n",
    "    for j in df_mos_caf.index:\n",
    "        if point.contains(Point(df_mos_caf.lat[j], df_mos_caf.lon[j])):\n",
    "            n += 1\n",
    "    test.loc[i, 'cafes'] = n"
   ]
  },
  {
   "cell_type": "markdown",
   "metadata": {},
   "source": [
    "Количество гостиниц в радиусе 1 км"
   ]
  },
  {
   "cell_type": "code",
   "execution_count": 360,
   "metadata": {},
   "outputs": [],
   "source": [
    "for i in moscow_.index:\n",
    "    point = Point(test.lat[i], test.lon[i]).buffer(0.01) # я выбрал простой путь, 0.01 градусов на 1 км\n",
    "    n = 0\n",
    "    for j in df_mos_hot.index:\n",
    "        if point.contains(Point(df_mos_hot.lat[j], df_mos_hot.lon[j])):\n",
    "            n += 1\n",
    "    test.loc[i, 'hotels'] = n"
   ]
  },
  {
   "cell_type": "markdown",
   "metadata": {},
   "source": [
    "Количество достопримечательностей в радиусе 1 км"
   ]
  },
  {
   "cell_type": "code",
   "execution_count": 361,
   "metadata": {},
   "outputs": [],
   "source": [
    "for i in moscow_.index:\n",
    "    point = Point(test.lat[i], test.lon[i]).buffer(0.01) # я выбрал простой путь, 0.01 градусов на 1 км\n",
    "    n = 0\n",
    "    for j in df_mos_att.index:\n",
    "        if point.contains(Point(df_mos_att.lat[j], df_mos_att.lon[j])):\n",
    "            n += 1\n",
    "    test.loc[i, 'attractions'] = n"
   ]
  },
  {
   "cell_type": "markdown",
   "metadata": {},
   "source": [
    "Количество торговых центров в радиусе 1 км"
   ]
  },
  {
   "cell_type": "code",
   "execution_count": 362,
   "metadata": {},
   "outputs": [],
   "source": [
    "for i in moscow_.index:\n",
    "    point = Point(test.lat[i], test.lon[i]).buffer(0.01) # я выбрал простой путь, 0.01 градусов на 1 км\n",
    "    n = 0\n",
    "    for j in df_mos_mal.index:\n",
    "        if point.contains(Point(df_mos_mal.lat[j], df_mos_mal.lon[j])):\n",
    "            n += 1\n",
    "    test.loc[i, 'malls'] = n"
   ]
  },
  {
   "cell_type": "markdown",
   "metadata": {},
   "source": [
    "Количество станций в радиусе 1 км"
   ]
  },
  {
   "cell_type": "code",
   "execution_count": 363,
   "metadata": {},
   "outputs": [],
   "source": [
    "for i in moscow_.index:\n",
    "    point = Point(test.lat[i], test.lon[i]).buffer(0.01) # я выбрал простой путь, 0.01 градусов на 1 км\n",
    "    n = 0\n",
    "    for j in df_mos_sta.index:\n",
    "        if point.contains(Point(df_mos_sta.lat[j], df_mos_sta.lon[j])):\n",
    "            n += 1\n",
    "    test.loc[i, 'stations'] = n"
   ]
  },
  {
   "cell_type": "markdown",
   "metadata": {},
   "source": [
    "Расстояние до близжайшей станции"
   ]
  },
  {
   "cell_type": "code",
   "execution_count": 364,
   "metadata": {},
   "outputs": [],
   "source": [
    "for i in moscow_.index:\n",
    "    point = (test.lon[i], test.lat[i])\n",
    "    dist = 500\n",
    "    for j in df_mos_sta.index:\n",
    "        station = (df_mos_sta.lon[j], df_mos_sta.lat[j])\n",
    "        if distance.geodesic(point, station).km < dist:\n",
    "            dist = distance.geodesic(point, station).km\n",
    "    test.loc[i, 'min_dist_stat'] = dist"
   ]
  },
  {
   "cell_type": "markdown",
   "metadata": {},
   "source": [
    "Расстояние до центра"
   ]
  },
  {
   "cell_type": "code",
   "execution_count": 366,
   "metadata": {},
   "outputs": [],
   "source": [
    "for i in moscow_.index:\n",
    "    point = (test.lon[i], test.lat[i])\n",
    "    center = (37.6174943, 55.7504461)\n",
    "    test.loc[i, 'dist_center'] = distance.geodesic(point, center).km"
   ]
  },
  {
   "cell_type": "markdown",
   "metadata": {},
   "source": [
    "Расстояние до близжайшего салона"
   ]
  },
  {
   "cell_type": "code",
   "execution_count": 368,
   "metadata": {},
   "outputs": [],
   "source": [
    "for i in moscow_.index:\n",
    "    point = (test.lon[i], test.lat[i])\n",
    "    dist = 500\n",
    "    for j in moscow_.index:\n",
    "        if j != i:\n",
    "            salon = (test.lon[j], test.lat[j])\n",
    "            if distance.geodesic(point, salon).km < dist:\n",
    "                dist = distance.geodesic(point, salon).km\n",
    "    test.loc[i, 'dist_salon'] = dist"
   ]
  },
  {
   "cell_type": "markdown",
   "metadata": {},
   "source": [
    "#### Санкт-Петербург"
   ]
  },
  {
   "cell_type": "markdown",
   "metadata": {},
   "source": [
    "Признак количество кафе в радиусе 1 км"
   ]
  },
  {
   "cell_type": "code",
   "execution_count": 369,
   "metadata": {},
   "outputs": [],
   "source": [
    "spb_ = test[test.city == 'Санкт-Петербург']\n",
    "for i in spb_.index:\n",
    "    point = Point(test.lat[i], test.lon[i]).buffer(0.01) # я выбрал простой путь, 0.01 градусов на 1 км\n",
    "    n = 0\n",
    "    for j in df_spb_caf.index:\n",
    "        if point.contains(Point(df_spb_caf.lat[j], df_spb_caf.lon[j])):\n",
    "            n += 1\n",
    "    test.loc[i, 'cafes'] = n"
   ]
  },
  {
   "cell_type": "markdown",
   "metadata": {},
   "source": [
    "Количество гостиниц в радиусе 1 км"
   ]
  },
  {
   "cell_type": "code",
   "execution_count": 370,
   "metadata": {},
   "outputs": [],
   "source": [
    "for i in spb_.index:\n",
    "    point = Point(test.lat[i], test.lon[i]).buffer(0.01) # я выбрал простой путь, 0.01 градусов на 1 км\n",
    "    n = 0\n",
    "    for j in df_spb_hot.index:\n",
    "        if point.contains(Point(df_spb_hot.lat[j], df_spb_hot.lon[j])):\n",
    "            n += 1\n",
    "    test.loc[i, 'hotels'] = n"
   ]
  },
  {
   "cell_type": "markdown",
   "metadata": {},
   "source": [
    "Количество достопримечательностей в радиусе 1 км"
   ]
  },
  {
   "cell_type": "code",
   "execution_count": 371,
   "metadata": {},
   "outputs": [],
   "source": [
    "for i in spb_.index:\n",
    "    point = Point(test.lat[i], test.lon[i]).buffer(0.01) # я выбрал простой путь, 0.01 градусов на 1 км\n",
    "    n = 0\n",
    "    for j in df_spb_att.index:\n",
    "        if point.contains(Point(df_spb_att.lat[j], df_spb_att.lon[j])):\n",
    "            n += 1\n",
    "    test.loc[i, 'attractions'] = n"
   ]
  },
  {
   "cell_type": "markdown",
   "metadata": {},
   "source": [
    "Количество торговых центров в радиусе 1 км"
   ]
  },
  {
   "cell_type": "code",
   "execution_count": 372,
   "metadata": {},
   "outputs": [],
   "source": [
    "for i in spb_.index:\n",
    "    point = Point(test.lat[i], test.lon[i]).buffer(0.01) # я выбрал простой путь, 0.01 градусов на 1 км\n",
    "    n = 0\n",
    "    for j in df_spb_mal.index:\n",
    "        if point.contains(Point(df_spb_mal.lat[j], df_spb_mal.lon[j])):\n",
    "            n += 1\n",
    "    test.loc[i, 'malls'] = n"
   ]
  },
  {
   "cell_type": "markdown",
   "metadata": {},
   "source": [
    "Количество станций в радиусе 1 км"
   ]
  },
  {
   "cell_type": "code",
   "execution_count": 373,
   "metadata": {},
   "outputs": [],
   "source": [
    "for i in spb_.index:\n",
    "    point = Point(test.lat[i], test.lon[i]).buffer(0.01) # я выбрал простой путь, 0.01 градусов на 1 км\n",
    "    n = 0\n",
    "    for j in df_spb_sta.index:\n",
    "        if point.contains(Point(df_spb_sta.lat[j], df_spb_sta.lon[j])):\n",
    "            n += 1\n",
    "    test.loc[i, 'stations'] = n"
   ]
  },
  {
   "cell_type": "markdown",
   "metadata": {},
   "source": [
    "Расстояние до близжайшей станции"
   ]
  },
  {
   "cell_type": "code",
   "execution_count": 374,
   "metadata": {},
   "outputs": [],
   "source": [
    "for i in spb_.index:\n",
    "    point = (test.lon[i], test.lat[i])\n",
    "    dist = 500\n",
    "    for j in df_spb_sta.index:\n",
    "        station = (df_spb_sta.lon[j], df_spb_sta.lat[j])\n",
    "        if distance.geodesic(point, station).km < dist:\n",
    "            dist = distance.geodesic(point, station).km\n",
    "    test.loc[i, 'min_dist_stat'] = dist"
   ]
  },
  {
   "cell_type": "markdown",
   "metadata": {},
   "source": [
    "Расстояние до центра"
   ]
  },
  {
   "cell_type": "code",
   "execution_count": 451,
   "metadata": {},
   "outputs": [],
   "source": [
    "for i in spb_.index:\n",
    "    point = (test.lon[i], test.lat[i])\n",
    "    center = (30.316229, 59.938732)\n",
    "    test.loc[i, 'dist_center'] = distance.geodesic(point, center).km"
   ]
  },
  {
   "cell_type": "markdown",
   "metadata": {},
   "source": [
    "Расстояние до близжайшего салона"
   ]
  },
  {
   "cell_type": "code",
   "execution_count": 376,
   "metadata": {},
   "outputs": [],
   "source": [
    "for i in spb_.index:\n",
    "    point = (test.lon[i], test.lat[i])\n",
    "    dist = 500\n",
    "    for j in spb_.index:\n",
    "        if j != i:\n",
    "            salon = (test.lon[j], test.lat[j])\n",
    "            if distance.geodesic(point, salon).km < dist:\n",
    "                dist = distance.geodesic(point, salon).km\n",
    "    test.loc[i, 'dist_salon'] = dist"
   ]
  },
  {
   "cell_type": "markdown",
   "metadata": {},
   "source": [
    "#### Ростов-на-Дону"
   ]
  },
  {
   "cell_type": "markdown",
   "metadata": {},
   "source": [
    "Признак количество кафе в радиусе 1 км"
   ]
  },
  {
   "cell_type": "code",
   "execution_count": 377,
   "metadata": {},
   "outputs": [],
   "source": [
    "ros_ = test[test.city == 'Ростов-на-Дону']\n",
    "for i in ros_.index:\n",
    "    point = Point(test.lat[i], test.lon[i]).buffer(0.01) # я выбрал простой путь, 0.01 градусов на 1 км\n",
    "    n = 0\n",
    "    for j in df_ros_caf.index:\n",
    "        if point.contains(Point(df_ros_caf.lat[j], df_ros_caf.lon[j])):\n",
    "            n += 1\n",
    "    test.loc[i, 'cafes'] = n"
   ]
  },
  {
   "cell_type": "markdown",
   "metadata": {},
   "source": [
    "Количество гостиниц в радиусе 1 км"
   ]
  },
  {
   "cell_type": "code",
   "execution_count": 378,
   "metadata": {},
   "outputs": [],
   "source": [
    "for i in ros_.index:\n",
    "    point = Point(test.lat[i], test.lon[i]).buffer(0.01) # я выбрал простой путь, 0.01 градусов на 1 км\n",
    "    n = 0\n",
    "    for j in df_ros_hot.index:\n",
    "        if point.contains(Point(df_ros_hot.lat[j], df_ros_hot.lon[j])):\n",
    "            n += 1\n",
    "    test.loc[i, 'hotels'] = n"
   ]
  },
  {
   "cell_type": "markdown",
   "metadata": {},
   "source": [
    "Количество достопримечательностей в радиусе 1 км"
   ]
  },
  {
   "cell_type": "code",
   "execution_count": 379,
   "metadata": {},
   "outputs": [],
   "source": [
    "for i in ros_.index:\n",
    "    point = Point(test.lat[i], test.lon[i]).buffer(0.01) # я выбрал простой путь, 0.01 градусов на 1 км\n",
    "    n = 0\n",
    "    for j in df_ros_att.index:\n",
    "        if point.contains(Point(df_ros_att.lat[j], df_ros_att.lon[j])):\n",
    "            n += 1\n",
    "    test.loc[i, 'attractions'] = n"
   ]
  },
  {
   "cell_type": "markdown",
   "metadata": {},
   "source": [
    "Количество торговых центров в радиусе 1 км"
   ]
  },
  {
   "cell_type": "code",
   "execution_count": 380,
   "metadata": {},
   "outputs": [],
   "source": [
    "for i in ros_.index:\n",
    "    point = Point(test.lat[i], test.lon[i]).buffer(0.01) # я выбрал простой путь, 0.01 градусов на 1 км\n",
    "    n = 0\n",
    "    for j in df_ros_mal.index:\n",
    "        if point.contains(Point(df_ros_mal.lat[j], df_ros_mal.lon[j])):\n",
    "            n += 1\n",
    "    test.loc[i, 'malls'] = n"
   ]
  },
  {
   "cell_type": "markdown",
   "metadata": {},
   "source": [
    "Количество станций в радиусе 1 км"
   ]
  },
  {
   "cell_type": "code",
   "execution_count": 381,
   "metadata": {},
   "outputs": [],
   "source": [
    "for i in ros_.index:\n",
    "    point = Point(test.lat[i], test.lon[i]).buffer(0.01) # я выбрал простой путь, 0.01 градусов на 1 км\n",
    "    n = 0\n",
    "    for j in df_ros_sta.index:\n",
    "        if point.contains(Point(df_ros_sta.lat[j], df_ros_sta.lon[j])):\n",
    "            n += 1\n",
    "    test.loc[i, 'stations'] = n"
   ]
  },
  {
   "cell_type": "markdown",
   "metadata": {},
   "source": [
    "Расстояние до близжайшей станции"
   ]
  },
  {
   "cell_type": "code",
   "execution_count": 382,
   "metadata": {},
   "outputs": [],
   "source": [
    "for i in ros_.index:\n",
    "    point = (test.lon[i], test.lat[i])\n",
    "    dist = 500\n",
    "    for j in df_ros_sta.index:\n",
    "        station = (df_ros_sta.lon[j], df_ros_sta.lat[j])\n",
    "        if distance.geodesic(point, station).km < dist:\n",
    "            dist = distance.geodesic(point, station).km\n",
    "    test.loc[i, 'min_dist_stat'] = dist"
   ]
  },
  {
   "cell_type": "markdown",
   "metadata": {},
   "source": [
    "Расстояние до центра"
   ]
  },
  {
   "cell_type": "code",
   "execution_count": 383,
   "metadata": {},
   "outputs": [],
   "source": [
    "for i in ros_.index:\n",
    "    point = (test.lon[i], test.lat[i]) \n",
    "    center = (39.7114196, 47.2213858)\n",
    "    test.loc[i, 'dist_center'] = distance.geodesic(point, center).km"
   ]
  },
  {
   "cell_type": "markdown",
   "metadata": {},
   "source": [
    "Расстояние до близжайшего салона"
   ]
  },
  {
   "cell_type": "code",
   "execution_count": 384,
   "metadata": {},
   "outputs": [],
   "source": [
    "for i in ros_.index:\n",
    "    point = (test.lon[i], test.lat[i])\n",
    "    dist = 500\n",
    "    for j in ros_.index:\n",
    "        if j != i:\n",
    "            salon = (test.lon[j], test.lat[j])\n",
    "            if distance.geodesic(point, salon).km < dist:\n",
    "                dist = distance.geodesic(point, salon).km\n",
    "    test.loc[i, 'dist_salon'] = dist"
   ]
  },
  {
   "cell_type": "markdown",
   "metadata": {},
   "source": [
    "#### Самара"
   ]
  },
  {
   "cell_type": "markdown",
   "metadata": {},
   "source": [
    "Признак количество кафе в радиусе 1 км"
   ]
  },
  {
   "cell_type": "code",
   "execution_count": 385,
   "metadata": {},
   "outputs": [],
   "source": [
    "sam_ = test[test.city == 'Самара']\n",
    "for i in sam_.index:\n",
    "    point = Point(test.lat[i], test.lon[i]).buffer(0.01) # я выбрал простой путь, 0.01 градусов на 1 км\n",
    "    n = 0\n",
    "    for j in df_sam_caf.index:\n",
    "        if point.contains(Point(df_sam_caf.lat[j], df_sam_caf.lon[j])):\n",
    "            n += 1\n",
    "    test.loc[i, 'cafes'] = n"
   ]
  },
  {
   "cell_type": "markdown",
   "metadata": {},
   "source": [
    "Количество гостиниц в радиусе 1 км"
   ]
  },
  {
   "cell_type": "code",
   "execution_count": 386,
   "metadata": {},
   "outputs": [],
   "source": [
    "for i in sam_.index:\n",
    "    point = Point(test.lat[i], test.lon[i]).buffer(0.01) # я выбрал простой путь, 0.01 градусов на 1 км\n",
    "    n = 0\n",
    "    for j in df_sam_hot.index:\n",
    "        if point.contains(Point(df_sam_hot.lat[j], df_sam_hot.lon[j])):\n",
    "            n += 1\n",
    "    test.loc[i, 'hotels'] = n"
   ]
  },
  {
   "cell_type": "markdown",
   "metadata": {},
   "source": [
    "Количество достопримечательностей в радиусе 1 км"
   ]
  },
  {
   "cell_type": "code",
   "execution_count": 387,
   "metadata": {},
   "outputs": [],
   "source": [
    "for i in sam_.index:\n",
    "    point = Point(test.lat[i], test.lon[i]).buffer(0.01) # я выбрал простой путь, 0.01 градусов на 1 км\n",
    "    n = 0\n",
    "    for j in df_sam_att.index:\n",
    "        if point.contains(Point(df_sam_att.lat[j], df_sam_att.lon[j])):\n",
    "            n += 1\n",
    "    test.loc[i, 'attractions'] = n"
   ]
  },
  {
   "cell_type": "markdown",
   "metadata": {},
   "source": [
    "Количество торговых центров в радиусе 1 км"
   ]
  },
  {
   "cell_type": "code",
   "execution_count": 388,
   "metadata": {},
   "outputs": [],
   "source": [
    "for i in sam_.index:\n",
    "    point = Point(test.lat[i], test.lon[i]).buffer(0.01) # я выбрал простой путь, 0.01 градусов на 1 км\n",
    "    n = 0\n",
    "    for j in df_sam_mal.index:\n",
    "        if point.contains(Point(df_sam_mal.lat[j], df_sam_mal.lon[j])):\n",
    "            n += 1\n",
    "    test.loc[i, 'malls'] = n"
   ]
  },
  {
   "cell_type": "markdown",
   "metadata": {},
   "source": [
    "Количество станций в радиусе 1 км"
   ]
  },
  {
   "cell_type": "code",
   "execution_count": 389,
   "metadata": {},
   "outputs": [],
   "source": [
    "for i in sam_.index:\n",
    "    point = Point(test.lat[i], test.lon[i]).buffer(0.01) # я выбрал простой путь, 0.01 градусов на 1 км\n",
    "    n = 0\n",
    "    for j in df_sam_sta.index:\n",
    "        if point.contains(Point(df_sam_sta.lat[j], df_sam_sta.lon[j])):\n",
    "            n += 1\n",
    "    test.loc[i, 'stations'] = n"
   ]
  },
  {
   "cell_type": "markdown",
   "metadata": {},
   "source": [
    "Расстояние до близжайшей станции"
   ]
  },
  {
   "cell_type": "code",
   "execution_count": 390,
   "metadata": {},
   "outputs": [],
   "source": [
    "for i in sam_.index:\n",
    "    point = (test.lon[i], test.lat[i])\n",
    "    dist = 500\n",
    "    for j in df_sam_sta.index:\n",
    "        station = (df_sam_sta.lon[j], df_sam_sta.lat[j])\n",
    "        if distance.geodesic(point, station).km < dist:\n",
    "            dist = distance.geodesic(point, station).km\n",
    "    test.loc[i, 'min_dist_stat'] = dist"
   ]
  },
  {
   "cell_type": "markdown",
   "metadata": {},
   "source": [
    "Расстояние до центра"
   ]
  },
  {
   "cell_type": "code",
   "execution_count": 391,
   "metadata": {},
   "outputs": [],
   "source": [
    "for i in sam_.index:\n",
    "    point = (test.lon[i], test.lat[i])\n",
    "    center = (50.113987, 53.198627)\n",
    "    test.loc[i, 'dist_center'] = distance.geodesic(point, center).km"
   ]
  },
  {
   "cell_type": "markdown",
   "metadata": {},
   "source": [
    "Расстояние до близжайшего салона"
   ]
  },
  {
   "cell_type": "code",
   "execution_count": 392,
   "metadata": {},
   "outputs": [],
   "source": [
    "for i in sam_.index:\n",
    "    point = (test.lon[i], test.lat[i])\n",
    "    dist = 500\n",
    "    for j in sam_.index:\n",
    "        if j != i:\n",
    "            salon = (test.lon[j], test.lat[j])\n",
    "            if distance.geodesic(point, salon).km < dist:\n",
    "                dist = distance.geodesic(point, salon).km\n",
    "    test.loc[i, 'dist_salon'] = dist"
   ]
  },
  {
   "cell_type": "markdown",
   "metadata": {},
   "source": [
    "#### Новосибирск"
   ]
  },
  {
   "cell_type": "markdown",
   "metadata": {},
   "source": [
    "Признак количество кафе в радиусе 1 км"
   ]
  },
  {
   "cell_type": "code",
   "execution_count": 393,
   "metadata": {},
   "outputs": [],
   "source": [
    "nvs_ = test[test.city == 'Новосибирск']\n",
    "for i in nvs_.index:\n",
    "    point = Point(test.lat[i], test.lon[i]).buffer(0.01) # я выбрал простой путь, 0.01 градусов на 1 км\n",
    "    n = 0\n",
    "    for j in df_nvs_caf.index:\n",
    "        if point.contains(Point(df_nvs_caf.lat[j], df_nvs_caf.lon[j])):\n",
    "            n += 1\n",
    "    test.loc[i, 'cafes'] = n"
   ]
  },
  {
   "cell_type": "markdown",
   "metadata": {},
   "source": [
    "Количество гостиниц в радиусе 1 км"
   ]
  },
  {
   "cell_type": "code",
   "execution_count": 394,
   "metadata": {},
   "outputs": [],
   "source": [
    "for i in nvs_.index:\n",
    "    point = Point(test.lat[i], test.lon[i]).buffer(0.01) # я выбрал простой путь, 0.01 градусов на 1 км\n",
    "    n = 0\n",
    "    for j in df_nvs_hot.index:\n",
    "        if point.contains(Point(df_nvs_hot.lat[j], df_nvs_hot.lon[j])):\n",
    "            n += 1\n",
    "    test.loc[i, 'hotels'] = n"
   ]
  },
  {
   "cell_type": "markdown",
   "metadata": {},
   "source": [
    "Количество достопримечательностей в радиусе 1 км"
   ]
  },
  {
   "cell_type": "code",
   "execution_count": 395,
   "metadata": {},
   "outputs": [],
   "source": [
    "for i in nvs_.index:\n",
    "    point = Point(test.lat[i], test.lon[i]).buffer(0.01) # я выбрал простой путь, 0.01 градусов на 1 км\n",
    "    n = 0\n",
    "    for j in df_nvs_att.index:\n",
    "        if point.contains(Point(df_nvs_att.lat[j], df_nvs_att.lon[j])):\n",
    "            n += 1\n",
    "    test.loc[i, 'attractions'] = n"
   ]
  },
  {
   "cell_type": "markdown",
   "metadata": {},
   "source": [
    "Количество торговых центров в радиусе 1 км"
   ]
  },
  {
   "cell_type": "code",
   "execution_count": 396,
   "metadata": {},
   "outputs": [],
   "source": [
    "for i in nvs_.index:\n",
    "    point = Point(test.lat[i], test.lon[i]).buffer(0.01) # я выбрал простой путь, 0.01 градусов на 1 км\n",
    "    n = 0\n",
    "    for j in df_nvs_mal.index:\n",
    "        if point.contains(Point(df_nvs_mal.lat[j], df_nvs_mal.lon[j])):\n",
    "            n += 1\n",
    "    test.loc[i, 'malls'] = n"
   ]
  },
  {
   "cell_type": "markdown",
   "metadata": {},
   "source": [
    "Количество станций в радиусе 1 км"
   ]
  },
  {
   "cell_type": "code",
   "execution_count": 397,
   "metadata": {},
   "outputs": [],
   "source": [
    "for i in nvs_.index:\n",
    "    point = Point(test.lat[i], test.lon[i]).buffer(0.01) # я выбрал простой путь, 0.01 градусов на 1 км\n",
    "    n = 0\n",
    "    for j in df_nvs_sta.index:\n",
    "        if point.contains(Point(df_nvs_sta.lat[j], df_nvs_sta.lon[j])):\n",
    "            n += 1\n",
    "    test.loc[i, 'stations'] = n"
   ]
  },
  {
   "cell_type": "markdown",
   "metadata": {},
   "source": [
    "Расстояние до близжайшей станции"
   ]
  },
  {
   "cell_type": "code",
   "execution_count": 398,
   "metadata": {},
   "outputs": [],
   "source": [
    "for i in nvs_.index:\n",
    "    point = (test.lon[i], test.lat[i])\n",
    "    dist = 500\n",
    "    for j in df_nvs_sta.index:\n",
    "        station = (df_nvs_sta.lon[j], df_nvs_sta.lat[j])\n",
    "        if distance.geodesic(point, station).km < dist:\n",
    "            dist = distance.geodesic(point, station).km\n",
    "    test.loc[i, 'min_dist_stat'] = dist"
   ]
  },
  {
   "cell_type": "markdown",
   "metadata": {},
   "source": [
    "Расстояние до центра"
   ]
  },
  {
   "cell_type": "code",
   "execution_count": 399,
   "metadata": {},
   "outputs": [],
   "source": [
    "for i in nvs_.index:\n",
    "    point = (test.lon[i], test.lat[i])\n",
    "    center = (82.9234509, 55.0282171)\n",
    "    test.loc[i, 'dist_center'] = distance.geodesic(point, center).km"
   ]
  },
  {
   "cell_type": "markdown",
   "metadata": {},
   "source": [
    "Расстояние до близжайшего салона"
   ]
  },
  {
   "cell_type": "code",
   "execution_count": 400,
   "metadata": {},
   "outputs": [],
   "source": [
    "for i in nvs_.index:\n",
    "    point = (test.lon[i], test.lat[i])\n",
    "    dist = 500\n",
    "    for j in nvs_.index:\n",
    "        if j != i:\n",
    "            salon = (test.lon[j], test.lat[j])\n",
    "            if distance.geodesic(point, salon).km < dist:\n",
    "                dist = distance.geodesic(point, salon).km\n",
    "    test.loc[i, 'dist_salon'] = dist"
   ]
  },
  {
   "cell_type": "markdown",
   "metadata": {},
   "source": [
    "#### Казань"
   ]
  },
  {
   "cell_type": "markdown",
   "metadata": {},
   "source": [
    "Признак количество кафе в радиусе 1 км"
   ]
  },
  {
   "cell_type": "code",
   "execution_count": 401,
   "metadata": {},
   "outputs": [],
   "source": [
    "kaz_ = test[test.city == 'Казань']\n",
    "for i in kaz_.index:\n",
    "    point = Point(test.lat[i], test.lon[i]).buffer(0.01) # я выбрал простой путь, 0.01 градусов на 1 км\n",
    "    n = 0\n",
    "    for j in df_kaz_caf.index:\n",
    "        if point.contains(Point(df_kaz_caf.lat[j], df_kaz_caf.lon[j])):\n",
    "            n += 1\n",
    "    test.loc[i, 'cafes'] = n"
   ]
  },
  {
   "cell_type": "markdown",
   "metadata": {},
   "source": [
    "Количество гостиниц в радиусе 1 км"
   ]
  },
  {
   "cell_type": "code",
   "execution_count": 402,
   "metadata": {},
   "outputs": [],
   "source": [
    "for i in kaz_.index:\n",
    "    point = Point(test.lat[i], test.lon[i]).buffer(0.01) # я выбрал простой путь, 0.01 градусов на 1 км\n",
    "    n = 0\n",
    "    for j in df_kaz_hot.index:\n",
    "        if point.contains(Point(df_kaz_hot.lat[j], df_kaz_hot.lon[j])):\n",
    "            n += 1\n",
    "    test.loc[i, 'hotels'] = n"
   ]
  },
  {
   "cell_type": "markdown",
   "metadata": {},
   "source": [
    "Количество достопримечательностей в радиусе 1 км"
   ]
  },
  {
   "cell_type": "code",
   "execution_count": 403,
   "metadata": {},
   "outputs": [],
   "source": [
    "for i in kaz_.index:\n",
    "    point = Point(test.lat[i], test.lon[i]).buffer(0.01) # я выбрал простой путь, 0.01 градусов на 1 км\n",
    "    n = 0\n",
    "    for j in df_kaz_att.index:\n",
    "        if point.contains(Point(df_kaz_att.lat[j], df_kaz_att.lon[j])):\n",
    "            n += 1\n",
    "    test.loc[i, 'attractions'] = n"
   ]
  },
  {
   "cell_type": "markdown",
   "metadata": {},
   "source": [
    "Количество торговых центров в радиусе 1 км"
   ]
  },
  {
   "cell_type": "code",
   "execution_count": 404,
   "metadata": {},
   "outputs": [],
   "source": [
    "for i in kaz_.index:\n",
    "    point = Point(test.lat[i], test.lon[i]).buffer(0.01) # я выбрал простой путь, 0.01 градусов на 1 км\n",
    "    n = 0\n",
    "    for j in df_kaz_mal.index:\n",
    "        if point.contains(Point(df_kaz_mal.lat[j], df_kaz_mal.lon[j])):\n",
    "            n += 1\n",
    "    test.loc[i, 'malls'] = n"
   ]
  },
  {
   "cell_type": "markdown",
   "metadata": {},
   "source": [
    "Количество станций в радиусе 1 км"
   ]
  },
  {
   "cell_type": "code",
   "execution_count": 405,
   "metadata": {},
   "outputs": [],
   "source": [
    "for i in kaz_.index:\n",
    "    point = Point(test.lat[i], test.lon[i]).buffer(0.01) # я выбрал простой путь, 0.01 градусов на 1 км\n",
    "    n = 0\n",
    "    for j in df_kaz_sta.index:\n",
    "        if point.contains(Point(df_kaz_sta.lat[j], df_kaz_sta.lon[j])):\n",
    "            n += 1\n",
    "    test.loc[i, 'stations'] = n"
   ]
  },
  {
   "cell_type": "markdown",
   "metadata": {},
   "source": [
    "Расстояние до близжайшей станции"
   ]
  },
  {
   "cell_type": "code",
   "execution_count": 406,
   "metadata": {},
   "outputs": [],
   "source": [
    "for i in kaz_.index:\n",
    "    point = (test.lon[i], test.lat[i])\n",
    "    dist = 500\n",
    "    for j in df_kaz_sta.index:\n",
    "        station = (df_kaz_sta.lon[j], df_kaz_sta.lat[j])\n",
    "        if distance.geodesic(point, station).km < dist:\n",
    "            dist = distance.geodesic(point, station).km\n",
    "    test.loc[i, 'min_dist_stat'] = dist"
   ]
  },
  {
   "cell_type": "markdown",
   "metadata": {},
   "source": [
    "Расстояние до центра"
   ]
  },
  {
   "cell_type": "code",
   "execution_count": 407,
   "metadata": {},
   "outputs": [],
   "source": [
    "for i in kaz_.index:\n",
    "    point = (test.lon[i], test.lat[i])\n",
    "    center = (49.1242266, 55.7823547)\n",
    "    test.loc[i, 'dist_center'] = distance.geodesic(point, center).km"
   ]
  },
  {
   "cell_type": "markdown",
   "metadata": {},
   "source": [
    "Расстояние до близжайшего салона"
   ]
  },
  {
   "cell_type": "code",
   "execution_count": 408,
   "metadata": {},
   "outputs": [],
   "source": [
    "for i in kaz_.index:\n",
    "    point = (test.lon[i], test.lat[i])\n",
    "    dist = 500\n",
    "    for j in kaz_.index:\n",
    "        if j != i:\n",
    "            salon = (test.lon[j], test.lat[j])\n",
    "            if distance.geodesic(point, salon).km < dist:\n",
    "                dist = distance.geodesic(point, salon).km\n",
    "    test.loc[i, 'dist_salon'] = dist"
   ]
  },
  {
   "cell_type": "markdown",
   "metadata": {},
   "source": [
    "#### Екатеринбург"
   ]
  },
  {
   "cell_type": "markdown",
   "metadata": {},
   "source": [
    "Признак количество кафе в радиусе 1 км"
   ]
  },
  {
   "cell_type": "code",
   "execution_count": 409,
   "metadata": {},
   "outputs": [],
   "source": [
    "ek_ = test[test.city == 'Екатеринбург']\n",
    "for i in ek_.index:\n",
    "    point = Point(test.lat[i], test.lon[i]).buffer(0.01) # я выбрал простой путь, 0.01 градусов на 1 км\n",
    "    n = 0\n",
    "    for j in df_ek_caf.index:\n",
    "        if point.contains(Point(df_ek_caf.lat[j], df_ek_caf.lon[j])):\n",
    "            n += 1\n",
    "    test.loc[i, 'cafes'] = n"
   ]
  },
  {
   "cell_type": "markdown",
   "metadata": {},
   "source": [
    "Количество гостиниц в радиусе 1 км"
   ]
  },
  {
   "cell_type": "code",
   "execution_count": 410,
   "metadata": {},
   "outputs": [],
   "source": [
    "for i in ek_.index:\n",
    "    point = Point(test.lat[i], test.lon[i]).buffer(0.01) # я выбрал простой путь, 0.01 градусов на 1 км\n",
    "    n = 0\n",
    "    for j in df_ek_hot.index:\n",
    "        if point.contains(Point(df_ek_hot.lat[j], df_ek_hot.lon[j])):\n",
    "            n += 1\n",
    "    test.loc[i, 'hotels'] = n"
   ]
  },
  {
   "cell_type": "markdown",
   "metadata": {},
   "source": [
    "Количество достопримечательностей в радиусе 1 км"
   ]
  },
  {
   "cell_type": "code",
   "execution_count": 411,
   "metadata": {},
   "outputs": [],
   "source": [
    "for i in ek_.index:\n",
    "    point = Point(test.lat[i], test.lon[i]).buffer(0.01) # я выбрал простой путь, 0.01 градусов на 1 км\n",
    "    n = 0\n",
    "    for j in df_ek_att.index:\n",
    "        if point.contains(Point(df_ek_att.lat[j], df_ek_att.lon[j])):\n",
    "            n += 1\n",
    "    test.loc[i, 'attractions'] = n"
   ]
  },
  {
   "cell_type": "markdown",
   "metadata": {},
   "source": [
    "Количество торговых центров в радиусе 1 км"
   ]
  },
  {
   "cell_type": "code",
   "execution_count": 412,
   "metadata": {},
   "outputs": [],
   "source": [
    "for i in ek_.index:\n",
    "    point = Point(test.lat[i], test.lon[i]).buffer(0.01) # я выбрал простой путь, 0.01 градусов на 1 км\n",
    "    n = 0\n",
    "    for j in df_ek_mal.index:\n",
    "        if point.contains(Point(df_ek_mal.lat[j], df_ek_mal.lon[j])):\n",
    "            n += 1\n",
    "    test.loc[i, 'malls'] = n"
   ]
  },
  {
   "cell_type": "markdown",
   "metadata": {},
   "source": [
    "Количество станций в радиусе 1 км"
   ]
  },
  {
   "cell_type": "code",
   "execution_count": 413,
   "metadata": {},
   "outputs": [],
   "source": [
    "for i in ek_.index:\n",
    "    point = Point(test.lat[i], test.lon[i]).buffer(0.01) # я выбрал простой путь, 0.01 градусов на 1 км\n",
    "    n = 0\n",
    "    for j in df_ek_sta.index:\n",
    "        if point.contains(Point(df_ek_sta.lat[j], df_ek_sta.lon[j])):\n",
    "            n += 1\n",
    "    test.loc[i, 'stations'] = n"
   ]
  },
  {
   "cell_type": "markdown",
   "metadata": {},
   "source": [
    "Расстояние до близжайшей станции"
   ]
  },
  {
   "cell_type": "code",
   "execution_count": 414,
   "metadata": {},
   "outputs": [],
   "source": [
    "for i in ek_.index:\n",
    "    point = (test.lon[i], test.lat[i])\n",
    "    dist = 500\n",
    "    for j in df_ek_sta.index:\n",
    "        station = (df_ek_sta.lon[j], df_ek_sta.lat[j])\n",
    "        if distance.geodesic(point, station).km < dist:\n",
    "            dist = distance.geodesic(point, station).km\n",
    "    test.loc[i, 'min_dist_stat'] = dist"
   ]
  },
  {
   "cell_type": "markdown",
   "metadata": {},
   "source": [
    "Расстояние до центра"
   ]
  },
  {
   "cell_type": "code",
   "execution_count": 415,
   "metadata": {},
   "outputs": [],
   "source": [
    "for i in ek_.index:\n",
    "    point = (test.lon[i], test.lat[i])\n",
    "    center = (60.60825, 56.839104)\n",
    "    test.loc[i, 'dist_center'] = distance.geodesic(point, center).km"
   ]
  },
  {
   "cell_type": "markdown",
   "metadata": {},
   "source": [
    "Расстояние до близжайшего салона"
   ]
  },
  {
   "cell_type": "code",
   "execution_count": 416,
   "metadata": {},
   "outputs": [],
   "source": [
    "for i in ek_.index:\n",
    "    point = (test.lon[i], test.lat[i])\n",
    "    dist = 500\n",
    "    for j in ek_.index:\n",
    "        if j != i:\n",
    "            salon = (test.lon[j], test.lat[j])\n",
    "            if distance.geodesic(point, salon).km < dist:\n",
    "                dist = distance.geodesic(point, salon).km\n",
    "    test.loc[i, 'dist_salon'] = dist"
   ]
  },
  {
   "cell_type": "markdown",
   "metadata": {},
   "source": [
    "#### Новгород"
   ]
  },
  {
   "cell_type": "markdown",
   "metadata": {},
   "source": [
    "Признак количество кафе в радиусе 1 км"
   ]
  },
  {
   "cell_type": "code",
   "execution_count": 417,
   "metadata": {},
   "outputs": [],
   "source": [
    "nvg_ = test[test.city == 'Новгород']\n",
    "for i in nvg_.index:\n",
    "    point = Point(test.lat[i], test.lon[i]).buffer(0.01) # я выбрал простой путь, 0.01 градусов на 1 км\n",
    "    n = 0\n",
    "    for j in df_nvg_caf.index:\n",
    "        if point.contains(Point(df_nvg_caf.lat[j], df_nvg_caf.lon[j])):\n",
    "            n += 1\n",
    "    test.loc[i, 'cafes'] = n"
   ]
  },
  {
   "cell_type": "markdown",
   "metadata": {},
   "source": [
    "Количество гостиниц в радиусе 1 км"
   ]
  },
  {
   "cell_type": "code",
   "execution_count": 418,
   "metadata": {},
   "outputs": [],
   "source": [
    "for i in nvg_.index:\n",
    "    point = Point(test.lat[i], test.lon[i]).buffer(0.01) # я выбрал простой путь, 0.01 градусов на 1 км\n",
    "    n = 0\n",
    "    for j in df_nvg_hot.index:\n",
    "        if point.contains(Point(df_nvg_hot.lat[j], df_nvg_hot.lon[j])):\n",
    "            n += 1\n",
    "    test.loc[i, 'hotels'] = n"
   ]
  },
  {
   "cell_type": "markdown",
   "metadata": {},
   "source": [
    "Количество достопримечательностей в радиусе 1 км"
   ]
  },
  {
   "cell_type": "code",
   "execution_count": 419,
   "metadata": {},
   "outputs": [],
   "source": [
    "for i in nvg_.index:\n",
    "    point = Point(test.lat[i], test.lon[i]).buffer(0.01) # я выбрал простой путь, 0.01 градусов на 1 км\n",
    "    n = 0\n",
    "    for j in df_nvg_att.index:\n",
    "        if point.contains(Point(df_nvg_att.lat[j], df_nvg_att.lon[j])):\n",
    "            n += 1\n",
    "    test.loc[i, 'attractions'] = n"
   ]
  },
  {
   "cell_type": "markdown",
   "metadata": {},
   "source": [
    "Количество торговых центров в радиусе 1 км"
   ]
  },
  {
   "cell_type": "code",
   "execution_count": 420,
   "metadata": {},
   "outputs": [],
   "source": [
    "for i in nvg_.index:\n",
    "    point = Point(test.lat[i], test.lon[i]).buffer(0.01) # я выбрал простой путь, 0.01 градусов на 1 км\n",
    "    n = 0\n",
    "    for j in df_nvg_mal.index:\n",
    "        if point.contains(Point(df_nvg_mal.lat[j], df_nvg_mal.lon[j])):\n",
    "            n += 1\n",
    "    test.loc[i, 'malls'] = n"
   ]
  },
  {
   "cell_type": "markdown",
   "metadata": {},
   "source": [
    "Количество станций в радиусе 1 км"
   ]
  },
  {
   "cell_type": "code",
   "execution_count": 421,
   "metadata": {},
   "outputs": [],
   "source": [
    "for i in nvg_.index:\n",
    "    point = Point(test.lat[i], test.lon[i]).buffer(0.01) # я выбрал простой путь, 0.01 градусов на 1 км\n",
    "    n = 0\n",
    "    for j in df_nvg_sta.index:\n",
    "        if point.contains(Point(df_nvg_sta.lat[j], df_nvg_sta.lon[j])):\n",
    "            n += 1\n",
    "    test.loc[i, 'stations'] = n"
   ]
  },
  {
   "cell_type": "markdown",
   "metadata": {},
   "source": [
    "Расстояние до близжайшей станции"
   ]
  },
  {
   "cell_type": "code",
   "execution_count": 422,
   "metadata": {},
   "outputs": [],
   "source": [
    "for i in nvg_.index:\n",
    "    point = (test.lon[i], test.lat[i])\n",
    "    dist = 500\n",
    "    for j in df_nvg_sta.index:\n",
    "        station = (df_nvg_sta.lon[j], df_nvg_sta.lat[j])\n",
    "        if distance.geodesic(point, station).km < dist:\n",
    "            dist = distance.geodesic(point, station).km\n",
    "    test.loc[i, 'min_dist_stat'] = dist"
   ]
  },
  {
   "cell_type": "markdown",
   "metadata": {},
   "source": [
    "Расстояние до центра"
   ]
  },
  {
   "cell_type": "code",
   "execution_count": 423,
   "metadata": {},
   "outputs": [],
   "source": [
    "for i in nvg_.index:\n",
    "    point = (test.lon[i], test.lat[i])\n",
    "    center = (44.003506, 56.328571)\n",
    "    test.loc[i, 'dist_center'] = distance.geodesic(point, center).km"
   ]
  },
  {
   "cell_type": "markdown",
   "metadata": {},
   "source": [
    "Расстояние до близжайшего салона"
   ]
  },
  {
   "cell_type": "code",
   "execution_count": 424,
   "metadata": {},
   "outputs": [],
   "source": [
    "for i in nvg_.index:\n",
    "    point = (test.lon[i], test.lat[i])\n",
    "    dist = 500\n",
    "    for j in nvg_.index:\n",
    "        if j != i:\n",
    "            salon = (test.lon[j], test.lat[j])\n",
    "            if distance.geodesic(point, salon).km < dist:\n",
    "                dist = distance.geodesic(point, salon).km\n",
    "    test.loc[i, 'dist_salon'] = dist"
   ]
  },
  {
   "cell_type": "markdown",
   "metadata": {},
   "source": [
    "#### Красноярск"
   ]
  },
  {
   "cell_type": "markdown",
   "metadata": {},
   "source": [
    "Признак количество кафе в радиусе 1 км"
   ]
  },
  {
   "cell_type": "code",
   "execution_count": 425,
   "metadata": {},
   "outputs": [],
   "source": [
    "kras_ = test[test.city == 'Красноярск']\n",
    "for i in kras_.index:\n",
    "    point = Point(test.lat[i], test.lon[i]).buffer(0.01) # я выбрал простой путь, 0.01 градусов на 1 км\n",
    "    n = 0\n",
    "    for j in df_kras_caf.index:\n",
    "        if point.contains(Point(df_kras_caf.lat[j], df_kras_caf.lon[j])):\n",
    "            n += 1\n",
    "    test.loc[i, 'cafes'] = n"
   ]
  },
  {
   "cell_type": "markdown",
   "metadata": {},
   "source": [
    "Количество гостиниц в радиусе 1 км"
   ]
  },
  {
   "cell_type": "code",
   "execution_count": 426,
   "metadata": {},
   "outputs": [],
   "source": [
    "for i in kras_.index:\n",
    "    point = Point(test.lat[i], test.lon[i]).buffer(0.01) # я выбрал простой путь, 0.01 градусов на 1 км\n",
    "    n = 0\n",
    "    for j in df_kras_hot.index:\n",
    "        if point.contains(Point(df_kras_hot.lat[j], df_kras_hot.lon[j])):\n",
    "            n += 1\n",
    "    test.loc[i, 'hotels'] = n"
   ]
  },
  {
   "cell_type": "markdown",
   "metadata": {},
   "source": [
    "Количество достопримечательностей в радиусе 1 км"
   ]
  },
  {
   "cell_type": "code",
   "execution_count": 427,
   "metadata": {},
   "outputs": [],
   "source": [
    "for i in kras_.index:\n",
    "    point = Point(test.lat[i], test.lon[i]).buffer(0.01) # я выбрал простой путь, 0.01 градусов на 1 км\n",
    "    n = 0\n",
    "    for j in df_kras_att.index:\n",
    "        if point.contains(Point(df_kras_att.lat[j], df_kras_att.lon[j])):\n",
    "            n += 1\n",
    "    test.loc[i, 'attractions'] = n"
   ]
  },
  {
   "cell_type": "markdown",
   "metadata": {},
   "source": [
    "Количество торговых центров в радиусе 1 км"
   ]
  },
  {
   "cell_type": "code",
   "execution_count": 428,
   "metadata": {},
   "outputs": [],
   "source": [
    "for i in kras_.index:\n",
    "    point = Point(test.lat[i], test.lon[i]).buffer(0.01) # я выбрал простой путь, 0.01 градусов на 1 км\n",
    "    n = 0\n",
    "    for j in df_kras_mal.index:\n",
    "        if point.contains(Point(df_kras_mal.lat[j], df_kras_mal.lon[j])):\n",
    "            n += 1\n",
    "    test.loc[i, 'malls'] = n"
   ]
  },
  {
   "cell_type": "markdown",
   "metadata": {},
   "source": [
    "Количество станций в радиусе 1 км"
   ]
  },
  {
   "cell_type": "code",
   "execution_count": 429,
   "metadata": {},
   "outputs": [],
   "source": [
    "for i in kras_.index:\n",
    "    point = Point(test.lat[i], test.lon[i]).buffer(0.01) # я выбрал простой путь, 0.01 градусов на 1 км\n",
    "    n = 0\n",
    "    for j in df_kras_sta.index:\n",
    "        if point.contains(Point(df_kras_sta.lat[j], df_kras_sta.lon[j])):\n",
    "            n += 1\n",
    "    test.loc[i, 'stations'] = n"
   ]
  },
  {
   "cell_type": "markdown",
   "metadata": {},
   "source": [
    "Расстояние до близжайшей станции"
   ]
  },
  {
   "cell_type": "code",
   "execution_count": 430,
   "metadata": {},
   "outputs": [],
   "source": [
    "for i in kras_.index:\n",
    "    point = (test.lat[i], test.lon[i])\n",
    "    dist = 500\n",
    "    for j in df_kras_sta.index:\n",
    "        station = (df_kras_sta.lat[j], df_kras_sta.lon[j])\n",
    "        if distance.geodesic(point, station).km < dist:\n",
    "            dist = distance.geodesic(point, station).km\n",
    "    test.loc[i, 'min_dist_stat'] = dist"
   ]
  },
  {
   "cell_type": "markdown",
   "metadata": {},
   "source": [
    "Расстояние до центра"
   ]
  },
  {
   "cell_type": "code",
   "execution_count": 431,
   "metadata": {},
   "outputs": [],
   "source": [
    "for i in kras_.index:\n",
    "    point = (test.lat[i], test.lon[i])\n",
    "    center = (56.0090968, 92.8725147)\n",
    "    test.loc[i, 'dist_center'] = distance.geodesic(point, center).km"
   ]
  },
  {
   "cell_type": "markdown",
   "metadata": {},
   "source": [
    "Расстояние до близжайшего салона"
   ]
  },
  {
   "cell_type": "code",
   "execution_count": 432,
   "metadata": {},
   "outputs": [],
   "source": [
    "for i in kras_.index:\n",
    "    point = (test.lat[i], test.lon[i])\n",
    "    dist = 500\n",
    "    for j in kras_.index:\n",
    "        if j != i:\n",
    "            salon = (test.lat[j], test.lon[j])\n",
    "            if distance.geodesic(point, salon).km < dist:\n",
    "                dist = distance.geodesic(point, salon).km\n",
    "    test.loc[i, 'dist_salon'] = dist"
   ]
  },
  {
   "cell_type": "markdown",
   "metadata": {},
   "source": [
    "#### Уфа"
   ]
  },
  {
   "cell_type": "markdown",
   "metadata": {},
   "source": [
    "Признак количество кафе в радиусе 1 км"
   ]
  },
  {
   "cell_type": "code",
   "execution_count": 433,
   "metadata": {},
   "outputs": [],
   "source": [
    "ufa_ = test[test.city == 'Уфа']\n",
    "for i in ufa_.index:\n",
    "    point = Point(test.lat[i], test.lon[i]).buffer(0.01) # я выбрал простой путь, 0.01 градусов на 1 км\n",
    "    n = 0\n",
    "    for j in df_ufa_caf.index:\n",
    "        if point.contains(Point(df_ufa_caf.lat[j], df_ufa_caf.lon[j])):\n",
    "            n += 1\n",
    "    test.loc[i, 'cafes'] = n"
   ]
  },
  {
   "cell_type": "markdown",
   "metadata": {},
   "source": [
    "Количество гостиниц в радиусе 1 км"
   ]
  },
  {
   "cell_type": "code",
   "execution_count": 434,
   "metadata": {},
   "outputs": [],
   "source": [
    "for i in ufa_.index:\n",
    "    point = Point(test.lat[i], test.lon[i]).buffer(0.01) # я выбрал простой путь, 0.01 градусов на 1 км\n",
    "    n = 0\n",
    "    for j in df_ufa_hot.index:\n",
    "        if point.contains(Point(df_ufa_hot.lat[j], df_ufa_hot.lon[j])):\n",
    "            n += 1\n",
    "    test.loc[i, 'hotels'] = n"
   ]
  },
  {
   "cell_type": "markdown",
   "metadata": {},
   "source": [
    "Количество достопримечательностей в радиусе 1 км"
   ]
  },
  {
   "cell_type": "code",
   "execution_count": 435,
   "metadata": {},
   "outputs": [],
   "source": [
    "for i in ufa_.index:\n",
    "    point = Point(test.lat[i], test.lon[i]).buffer(0.01) # я выбрал простой путь, 0.01 градусов на 1 км\n",
    "    n = 0\n",
    "    for j in df_ufa_att.index:\n",
    "        if point.contains(Point(df_ufa_att.lat[j], df_ufa_att.lon[j])):\n",
    "            n += 1\n",
    "    test.loc[i, 'attractions'] = n"
   ]
  },
  {
   "cell_type": "markdown",
   "metadata": {},
   "source": [
    "Количество торговых центров в радиусе 1 км"
   ]
  },
  {
   "cell_type": "code",
   "execution_count": 436,
   "metadata": {},
   "outputs": [],
   "source": [
    "for i in ufa_.index:\n",
    "    point = Point(test.lat[i], test.lon[i]).buffer(0.01) # я выбрал простой путь, 0.01 градусов на 1 км\n",
    "    n = 0\n",
    "    for j in df_ufa_mal.index:\n",
    "        if point.contains(Point(df_ufa_mal.lat[j], df_ufa_mal.lon[j])):\n",
    "            n += 1\n",
    "    test.loc[i, 'malls'] = n"
   ]
  },
  {
   "cell_type": "markdown",
   "metadata": {},
   "source": [
    "Количество станций в радиусе 1 км"
   ]
  },
  {
   "cell_type": "code",
   "execution_count": 437,
   "metadata": {},
   "outputs": [],
   "source": [
    "for i in ufa_.index:\n",
    "    point = Point(test.lat[i], test.lon[i]).buffer(0.01) # я выбрал простой путь, 0.01 градусов на 1 км\n",
    "    n = 0\n",
    "    for j in df_ufa_sta.index:\n",
    "        if point.contains(Point(df_ufa_sta.lat[j], df_ufa_sta.lon[j])):\n",
    "            n += 1\n",
    "    test.loc[i, 'stations'] = n"
   ]
  },
  {
   "cell_type": "markdown",
   "metadata": {},
   "source": [
    "Расстояние до близжайшей станции"
   ]
  },
  {
   "cell_type": "code",
   "execution_count": 438,
   "metadata": {},
   "outputs": [],
   "source": [
    "for i in ufa_.index:\n",
    "    point = (test.lat[i], test.lon[i])\n",
    "    dist = 500\n",
    "    for j in df_ufa_sta.index:\n",
    "        station = (df_ufa_sta.lat[j], df_ufa_sta.lon[j])\n",
    "        if distance.geodesic(point, station).km < dist:\n",
    "            dist = distance.geodesic(point, station).km\n",
    "    test.loc[i, 'min_dist_stat'] = dist"
   ]
  },
  {
   "cell_type": "markdown",
   "metadata": {},
   "source": [
    "Расстояние до центра"
   ]
  },
  {
   "cell_type": "code",
   "execution_count": 439,
   "metadata": {},
   "outputs": [],
   "source": [
    "for i in ufa_.index:\n",
    "    point = (test.lat[i], test.lon[i])\n",
    "    center = (54.7261409, 55.947499)\n",
    "    test.loc[i, 'dist_center'] = distance.geodesic(point, center).km"
   ]
  },
  {
   "cell_type": "markdown",
   "metadata": {},
   "source": [
    "Расстояние до близжайшего салона"
   ]
  },
  {
   "cell_type": "code",
   "execution_count": 440,
   "metadata": {},
   "outputs": [],
   "source": [
    "for i in ufa_.index:\n",
    "    point = (test.lat[i], test.lon[i])\n",
    "    dist = 500\n",
    "    for j in ufa_.index:\n",
    "        if j != i:\n",
    "            salon = (test.lat[j], test.lon[j])\n",
    "            if distance.geodesic(point, salon).km < dist:\n",
    "                dist = distance.geodesic(point, salon).km\n",
    "    test.loc[i, 'dist_salon'] = dist"
   ]
  },
  {
   "cell_type": "markdown",
   "metadata": {},
   "source": [
    "### 4\n",
    "4. **Сделайте визуализации**: постройте 2-3 карты для какого нибудь из городов - как распределен в пространстве таргет, где находятся объекты, полученные вами из OSM. Можете использовать любой инструмент - обычный `plot()`, `folium`, `keplergl`. Если выберете Кеплер, обязательно сохраните в файл конфиг карты, чтобы ее можно было воспроизвести. Сделать это можно вот так:\n",
    "\n",
    "```python\n",
    "import json\n",
    "json_data = kepler_map.config\n",
    "with open('kepler_config.json', 'w') as outfile:\n",
    "    json.dump(json_data, outfile)\n",
    "```"
   ]
  },
  {
   "cell_type": "code",
   "execution_count": 461,
   "metadata": {},
   "outputs": [],
   "source": [
    "import folium\n",
    "from folium.plugins import HeatMap"
   ]
  },
  {
   "cell_type": "markdown",
   "metadata": {},
   "source": [
    "Нахождение метро в Москве:"
   ]
  },
  {
   "cell_type": "code",
   "execution_count": 469,
   "metadata": {
    "scrolled": false
   },
   "outputs": [
    {
     "data": {
      "text/html": [
       "<div style=\"width:100%;\"><div style=\"position:relative;width:100%;height:0;padding-bottom:60%;\"><span style=\"color:#565656\">Make this Notebook Trusted to load map: File -> Trust Notebook</span><iframe src=\"about:blank\" style=\"position:absolute;width:100%;height:100%;left:0;top:0;border:none !important;\" data-html=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 onload=\"this.contentDocument.open();this.contentDocument.write(atob(this.getAttribute('data-html')));this.contentDocument.close();\" allowfullscreen webkitallowfullscreen mozallowfullscreen></iframe></div></div>"
      ],
      "text/plain": [
       "<folium.folium.Map at 0x27a9c5eef48>"
      ]
     },
     "execution_count": 469,
     "metadata": {},
     "output_type": "execute_result"
    }
   ],
   "source": [
    "m = folium.Map(location=[55.7504461, 37.6174943], \n",
    "               zoom_start=11, \n",
    "               tiles='cartodbpositron')\n",
    "for lat, lon in zip(df_mos_sta.lat, df_mos_sta.lon):\n",
    "    folium.Marker(location=[lat, lon], popup=\" m\", icon=folium.Icon(color = 'gray')).add_to(m)\n",
    "m.save(\"map1.html\")\n",
    "m"
   ]
  },
  {
   "cell_type": "markdown",
   "metadata": {},
   "source": [
    "Распределение таргета в Москве:"
   ]
  },
  {
   "cell_type": "code",
   "execution_count": 482,
   "metadata": {},
   "outputs": [
    {
     "data": {
      "text/html": [
       "<div style=\"width:100%;\"><div style=\"position:relative;width:100%;height:0;padding-bottom:60%;\"><span style=\"color:#565656\">Make this Notebook Trusted to load map: File -> Trust Notebook</span><iframe src=\"about:blank\" style=\"position:absolute;width:100%;height:100%;left:0;top:0;border:none !important;\" data-html=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 onload=\"this.contentDocument.open();this.contentDocument.write(atob(this.getAttribute('data-html')));this.contentDocument.close();\" allowfullscreen webkitallowfullscreen mozallowfullscreen></iframe></div></div>"
      ],
      "text/plain": [
       "<folium.folium.Map at 0x27a9cca5e48>"
      ]
     },
     "execution_count": 482,
     "metadata": {},
     "output_type": "execute_result"
    }
   ],
   "source": [
    "m_1 = folium.Map(location=[55.7504461, 37.6174943], \n",
    "               zoom_start=11, \n",
    "               tiles='cartodbpositron')\n",
    "heat_data = [[train.lat[i], train.lon[i], train.target[i]] for i in train.index]\n",
    "HeatMap(heat_data,\n",
    "        radius=10).add_to(m_1)\n",
    "m_1.save('map2.html')\n",
    "m_1"
   ]
  },
  {
   "cell_type": "markdown",
   "metadata": {},
   "source": [
    "### Fit model"
   ]
  },
  {
   "cell_type": "code",
   "execution_count": 508,
   "metadata": {},
   "outputs": [
    {
     "data": {
      "text/html": [
       "<div>\n",
       "<style scoped>\n",
       "    .dataframe tbody tr th:only-of-type {\n",
       "        vertical-align: middle;\n",
       "    }\n",
       "\n",
       "    .dataframe tbody tr th {\n",
       "        vertical-align: top;\n",
       "    }\n",
       "\n",
       "    .dataframe thead th {\n",
       "        text-align: right;\n",
       "    }\n",
       "</style>\n",
       "<table border=\"1\" class=\"dataframe\">\n",
       "  <thead>\n",
       "    <tr style=\"text-align: right;\">\n",
       "      <th></th>\n",
       "      <th>point_id</th>\n",
       "      <th>lon</th>\n",
       "      <th>lat</th>\n",
       "      <th>target</th>\n",
       "      <th>city</th>\n",
       "      <th>cafes</th>\n",
       "      <th>hotels</th>\n",
       "      <th>attractions</th>\n",
       "      <th>malls</th>\n",
       "      <th>stations</th>\n",
       "      <th>min_dist_stat</th>\n",
       "      <th>dist_center</th>\n",
       "      <th>dist_salon</th>\n",
       "    </tr>\n",
       "  </thead>\n",
       "  <tbody>\n",
       "    <tr>\n",
       "      <th>0</th>\n",
       "      <td>ommNZCUV</td>\n",
       "      <td>37.590776</td>\n",
       "      <td>55.848630</td>\n",
       "      <td>-0.348157</td>\n",
       "      <td>Москва</td>\n",
       "      <td>1.0</td>\n",
       "      <td>2.0</td>\n",
       "      <td>0.0</td>\n",
       "      <td>0.0</td>\n",
       "      <td>2.0</td>\n",
       "      <td>0.155140</td>\n",
       "      <td>9.163007</td>\n",
       "      <td>0.765778</td>\n",
       "    </tr>\n",
       "    <tr>\n",
       "      <th>1</th>\n",
       "      <td>nMe2LHPb</td>\n",
       "      <td>37.784210</td>\n",
       "      <td>55.750271</td>\n",
       "      <td>1.294206</td>\n",
       "      <td>Москва</td>\n",
       "      <td>9.0</td>\n",
       "      <td>0.0</td>\n",
       "      <td>0.0</td>\n",
       "      <td>0.0</td>\n",
       "      <td>1.0</td>\n",
       "      <td>0.265079</td>\n",
       "      <td>18.503919</td>\n",
       "      <td>0.083209</td>\n",
       "    </tr>\n",
       "    <tr>\n",
       "      <th>2</th>\n",
       "      <td>ZgodVRqB</td>\n",
       "      <td>39.635721</td>\n",
       "      <td>47.213330</td>\n",
       "      <td>-1.039679</td>\n",
       "      <td>Ростов-на-Дону</td>\n",
       "      <td>124.0</td>\n",
       "      <td>1.0</td>\n",
       "      <td>0.0</td>\n",
       "      <td>0.0</td>\n",
       "      <td>0.0</td>\n",
       "      <td>1.970163</td>\n",
       "      <td>8.433064</td>\n",
       "      <td>0.791127</td>\n",
       "    </tr>\n",
       "    <tr>\n",
       "      <th>3</th>\n",
       "      <td>0t2jNYdz</td>\n",
       "      <td>37.704570</td>\n",
       "      <td>55.782020</td>\n",
       "      <td>-1.169339</td>\n",
       "      <td>Москва</td>\n",
       "      <td>26.0</td>\n",
       "      <td>3.0</td>\n",
       "      <td>0.0</td>\n",
       "      <td>0.0</td>\n",
       "      <td>1.0</td>\n",
       "      <td>0.089354</td>\n",
       "      <td>10.058066</td>\n",
       "      <td>0.156413</td>\n",
       "    </tr>\n",
       "    <tr>\n",
       "      <th>4</th>\n",
       "      <td>U27W4QJ7</td>\n",
       "      <td>37.643983</td>\n",
       "      <td>55.730188</td>\n",
       "      <td>-0.088837</td>\n",
       "      <td>Москва</td>\n",
       "      <td>52.0</td>\n",
       "      <td>12.0</td>\n",
       "      <td>1.0</td>\n",
       "      <td>0.0</td>\n",
       "      <td>3.0</td>\n",
       "      <td>0.341539</td>\n",
       "      <td>3.441087</td>\n",
       "      <td>0.966847</td>\n",
       "    </tr>\n",
       "    <tr>\n",
       "      <th>...</th>\n",
       "      <td>...</td>\n",
       "      <td>...</td>\n",
       "      <td>...</td>\n",
       "      <td>...</td>\n",
       "      <td>...</td>\n",
       "      <td>...</td>\n",
       "      <td>...</td>\n",
       "      <td>...</td>\n",
       "      <td>...</td>\n",
       "      <td>...</td>\n",
       "      <td>...</td>\n",
       "      <td>...</td>\n",
       "      <td>...</td>\n",
       "    </tr>\n",
       "    <tr>\n",
       "      <th>420</th>\n",
       "      <td>AA8hN7bJ</td>\n",
       "      <td>37.628765</td>\n",
       "      <td>55.740664</td>\n",
       "      <td>0.213704</td>\n",
       "      <td>Москва</td>\n",
       "      <td>73.0</td>\n",
       "      <td>21.0</td>\n",
       "      <td>3.0</td>\n",
       "      <td>0.0</td>\n",
       "      <td>3.0</td>\n",
       "      <td>0.080903</td>\n",
       "      <td>1.520054</td>\n",
       "      <td>1.106251</td>\n",
       "    </tr>\n",
       "    <tr>\n",
       "      <th>421</th>\n",
       "      <td>uNw6t6xk</td>\n",
       "      <td>37.586825</td>\n",
       "      <td>55.794233</td>\n",
       "      <td>-0.002397</td>\n",
       "      <td>Москва</td>\n",
       "      <td>54.0</td>\n",
       "      <td>1.0</td>\n",
       "      <td>0.0</td>\n",
       "      <td>3.0</td>\n",
       "      <td>3.0</td>\n",
       "      <td>0.171250</td>\n",
       "      <td>5.151452</td>\n",
       "      <td>0.423794</td>\n",
       "    </tr>\n",
       "    <tr>\n",
       "      <th>422</th>\n",
       "      <td>Ap42ei8k</td>\n",
       "      <td>37.678790</td>\n",
       "      <td>55.772910</td>\n",
       "      <td>-0.910019</td>\n",
       "      <td>Москва</td>\n",
       "      <td>56.0</td>\n",
       "      <td>7.0</td>\n",
       "      <td>1.0</td>\n",
       "      <td>0.0</td>\n",
       "      <td>1.0</td>\n",
       "      <td>0.199517</td>\n",
       "      <td>7.086157</td>\n",
       "      <td>0.130759</td>\n",
       "    </tr>\n",
       "    <tr>\n",
       "      <th>423</th>\n",
       "      <td>rn9A8r62</td>\n",
       "      <td>37.752130</td>\n",
       "      <td>55.619640</td>\n",
       "      <td>-0.326547</td>\n",
       "      <td>Москва</td>\n",
       "      <td>3.0</td>\n",
       "      <td>0.0</td>\n",
       "      <td>0.0</td>\n",
       "      <td>0.0</td>\n",
       "      <td>2.0</td>\n",
       "      <td>0.937091</td>\n",
       "      <td>18.879288</td>\n",
       "      <td>1.077707</td>\n",
       "    </tr>\n",
       "    <tr>\n",
       "      <th>424</th>\n",
       "      <td>960M6jye</td>\n",
       "      <td>37.705770</td>\n",
       "      <td>55.782950</td>\n",
       "      <td>-1.234169</td>\n",
       "      <td>Москва</td>\n",
       "      <td>27.0</td>\n",
       "      <td>3.0</td>\n",
       "      <td>0.0</td>\n",
       "      <td>0.0</td>\n",
       "      <td>1.0</td>\n",
       "      <td>0.244176</td>\n",
       "      <td>10.208853</td>\n",
       "      <td>0.156413</td>\n",
       "    </tr>\n",
       "  </tbody>\n",
       "</table>\n",
       "<p>424 rows × 13 columns</p>\n",
       "</div>"
      ],
      "text/plain": [
       "     point_id        lon        lat    target            city  cafes  hotels  \\\n",
       "0    ommNZCUV  37.590776  55.848630 -0.348157          Москва    1.0     2.0   \n",
       "1    nMe2LHPb  37.784210  55.750271  1.294206          Москва    9.0     0.0   \n",
       "2    ZgodVRqB  39.635721  47.213330 -1.039679  Ростов-на-Дону  124.0     1.0   \n",
       "3    0t2jNYdz  37.704570  55.782020 -1.169339          Москва   26.0     3.0   \n",
       "4    U27W4QJ7  37.643983  55.730188 -0.088837          Москва   52.0    12.0   \n",
       "..        ...        ...        ...       ...             ...    ...     ...   \n",
       "420  AA8hN7bJ  37.628765  55.740664  0.213704          Москва   73.0    21.0   \n",
       "421  uNw6t6xk  37.586825  55.794233 -0.002397          Москва   54.0     1.0   \n",
       "422  Ap42ei8k  37.678790  55.772910 -0.910019          Москва   56.0     7.0   \n",
       "423  rn9A8r62  37.752130  55.619640 -0.326547          Москва    3.0     0.0   \n",
       "424  960M6jye  37.705770  55.782950 -1.234169          Москва   27.0     3.0   \n",
       "\n",
       "     attractions  malls  stations  min_dist_stat  dist_center  dist_salon  \n",
       "0            0.0    0.0       2.0       0.155140     9.163007    0.765778  \n",
       "1            0.0    0.0       1.0       0.265079    18.503919    0.083209  \n",
       "2            0.0    0.0       0.0       1.970163     8.433064    0.791127  \n",
       "3            0.0    0.0       1.0       0.089354    10.058066    0.156413  \n",
       "4            1.0    0.0       3.0       0.341539     3.441087    0.966847  \n",
       "..           ...    ...       ...            ...          ...         ...  \n",
       "420          3.0    0.0       3.0       0.080903     1.520054    1.106251  \n",
       "421          0.0    3.0       3.0       0.171250     5.151452    0.423794  \n",
       "422          1.0    0.0       1.0       0.199517     7.086157    0.130759  \n",
       "423          0.0    0.0       2.0       0.937091    18.879288    1.077707  \n",
       "424          0.0    0.0       1.0       0.244176    10.208853    0.156413  \n",
       "\n",
       "[424 rows x 13 columns]"
      ]
     },
     "execution_count": 508,
     "metadata": {},
     "output_type": "execute_result"
    }
   ],
   "source": [
    "train"
   ]
  },
  {
   "cell_type": "code",
   "execution_count": 524,
   "metadata": {},
   "outputs": [],
   "source": [
    "cat = train[['city']]\n",
    "num = train[['min_dist_stat', 'dist_center']]"
   ]
  },
  {
   "cell_type": "code",
   "execution_count": 489,
   "metadata": {},
   "outputs": [],
   "source": [
    "from sklearn.feature_extraction import DictVectorizer as DV"
   ]
  },
  {
   "cell_type": "code",
   "execution_count": 525,
   "metadata": {},
   "outputs": [],
   "source": [
    "encoder = DV(sparse = False)\n",
    "cat_oh = encoder.fit_transform(cat.T.to_dict().values())"
   ]
  },
  {
   "cell_type": "code",
   "execution_count": 526,
   "metadata": {},
   "outputs": [],
   "source": [
    "X_train_num, X_valid_num, y_train, y_valid = train_test_split(num, train.target, test_size=0.3, random_state=0)\n",
    "X_train_cat, X_valid_cat = train_test_split(cat_oh, test_size=0.3, random_state=0)"
   ]
  },
  {
   "cell_type": "code",
   "execution_count": 527,
   "metadata": {},
   "outputs": [],
   "source": [
    "X_train = np.hstack((X_train_num, X_train_cat))\n",
    "X_valid = np.hstack((X_valid_num, X_valid_cat))"
   ]
  },
  {
   "cell_type": "code",
   "execution_count": 528,
   "metadata": {},
   "outputs": [],
   "source": [
    "model = LinearRegression().fit(X_train, y_train)"
   ]
  },
  {
   "cell_type": "code",
   "execution_count": 529,
   "metadata": {
    "scrolled": false
   },
   "outputs": [
    {
     "data": {
      "text/plain": [
       "0.6148328159180323"
      ]
     },
     "execution_count": 529,
     "metadata": {},
     "output_type": "execute_result"
    }
   ],
   "source": [
    "mean_absolute_error(y_valid, model.predict(X_valid))"
   ]
  },
  {
   "cell_type": "code",
   "execution_count": 535,
   "metadata": {},
   "outputs": [],
   "source": [
    "cat_test = test[['city']]\n",
    "num_test = test[['min_dist_stat', 'dist_center']]"
   ]
  },
  {
   "cell_type": "code",
   "execution_count": 536,
   "metadata": {},
   "outputs": [],
   "source": [
    "cat_oh_test = encoder.transform(cat_test.T.to_dict().values())"
   ]
  },
  {
   "cell_type": "code",
   "execution_count": 537,
   "metadata": {},
   "outputs": [],
   "source": [
    "X_test = np.hstack((num_test, cat_oh_test))"
   ]
  },
  {
   "cell_type": "markdown",
   "metadata": {},
   "source": [
    "### Только вещественные признаки"
   ]
  },
  {
   "cell_type": "code",
   "execution_count": 556,
   "metadata": {},
   "outputs": [],
   "source": [
    "X = train[['lon', 'lat', 'dist_salon', 'dist_center']]\n",
    "X_test = test[['lon', 'lat', 'dist_salon', 'dist_center']]"
   ]
  },
  {
   "cell_type": "code",
   "execution_count": 557,
   "metadata": {},
   "outputs": [],
   "source": [
    "X_train, X_valid, y_train, y_valid = train_test_split(X, train.target)"
   ]
  },
  {
   "cell_type": "code",
   "execution_count": 558,
   "metadata": {},
   "outputs": [],
   "source": [
    "model = LinearRegression().fit(X_train, y_train)"
   ]
  },
  {
   "cell_type": "code",
   "execution_count": 559,
   "metadata": {
    "scrolled": true
   },
   "outputs": [
    {
     "data": {
      "text/plain": [
       "0.7157095916912916"
      ]
     },
     "execution_count": 559,
     "metadata": {},
     "output_type": "execute_result"
    }
   ],
   "source": [
    "mean_absolute_error(y_valid, model.predict(X_valid))"
   ]
  },
  {
   "cell_type": "markdown",
   "metadata": {},
   "source": [
    "#### Два расстояния\n",
    "The best"
   ]
  },
  {
   "cell_type": "code",
   "execution_count": 561,
   "metadata": {},
   "outputs": [],
   "source": [
    "X = train[['lat', 'lon', 'dist_center']]\n",
    "X_test = test[['lat', 'lon', 'dist_center']]"
   ]
  },
  {
   "cell_type": "code",
   "execution_count": 562,
   "metadata": {},
   "outputs": [],
   "source": [
    "X_train, X_valid, y_train, y_valid = train_test_split(X, train.target)"
   ]
  },
  {
   "cell_type": "code",
   "execution_count": 563,
   "metadata": {},
   "outputs": [],
   "source": [
    "model = LinearRegression().fit(X_train, y_train)"
   ]
  },
  {
   "cell_type": "code",
   "execution_count": 564,
   "metadata": {},
   "outputs": [
    {
     "data": {
      "text/plain": [
       "0.7014557863623183"
      ]
     },
     "execution_count": 564,
     "metadata": {},
     "output_type": "execute_result"
    }
   ],
   "source": [
    "mean_absolute_error(y_valid, model.predict(X_valid))"
   ]
  },
  {
   "cell_type": "markdown",
   "metadata": {},
   "source": [
    "### Make submission"
   ]
  },
  {
   "cell_type": "code",
   "execution_count": 565,
   "metadata": {},
   "outputs": [],
   "source": [
    "submission = pd.read_csv('data/sample_submission.csv')\n",
    "submission['target'] = model.predict(X_test)\n",
    "submission.to_csv('data/my_submission_01.csv', index=False)"
   ]
  }
 ],
 "metadata": {
  "kernelspec": {
   "display_name": "Python 3",
   "language": "python",
   "name": "python3"
  },
  "language_info": {
   "codemirror_mode": {
    "name": "ipython",
    "version": 3
   },
   "file_extension": ".py",
   "mimetype": "text/x-python",
   "name": "python",
   "nbconvert_exporter": "python",
   "pygments_lexer": "ipython3",
   "version": "3.7.6"
  }
 },
 "nbformat": 4,
 "nbformat_minor": 4
}
